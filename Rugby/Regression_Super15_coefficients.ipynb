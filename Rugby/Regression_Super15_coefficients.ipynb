{
 "cells": [
  {
   "cell_type": "markdown",
   "metadata": {},
   "source": [
    "# Rugby prediction based on coefficents of score elements\n",
    "\n",
    "The idea behind this notebook is to examine if breaking rugby scores into elements can aid in predicting outcomes. This helps take apart the several elements that combine to form a prediction. The idea relates to the statistical idea of finding 'significance' by first ensuring consistency across model levels. \n",
    "\n",
    "Practically, the start point is that a trie in rugby is worth 5 points. So counting how many tries a team produces is a representation of the ability to position and defend in order to get over the line. It is accepted that this also has some sub-elements. \n",
    "\n",
    "Conversions, whilst conditional on a trie are not deterministic. They rely on who is kicking for the trie, that person's percentage (one assumes) and probably position of the kick (front of goal versus from the touch line). Initially, one might try modeling trie percentage simplistically as a function of who (mean kicks by each kicker) and percentage accuracy (cumulative). \n",
    "\n",
    "Penalty goals are perhaps more difficult to predict. However, they probably represent an element of percentage accuracy from each kicker conditional on the reasons a penalty is awarded. At the most simple level, the start point is to take the typical percenatge of penalties for each team. \n",
    "\n",
    "A final initial point is to have some heuristic to determine how these averages are used based on the comparison of mean to variance. For example, if a kicker has an average of 75%, but this varies by 25%, that is quite different in term of number of kicks in a single game in the future than if the consistency was within 5%. "
   ]
  },
  {
   "cell_type": "code",
   "execution_count": 3,
   "metadata": {
    "collapsed": false
   },
   "outputs": [],
   "source": [
    "%matplotlib inline\n",
    "import matplotlib.pyplot as plt\n",
    "import pandas as pd\n",
    "import numpy as np\n",
    "import scipy as sp"
   ]
  },
  {
   "cell_type": "code",
   "execution_count": 5,
   "metadata": {
    "collapsed": false
   },
   "outputs": [],
   "source": [
    "tries = 5 #average tries per team.\n",
    "penalties = 3 #average penalties per team.\n",
    "percentage_accuracy = {'kicker1': 45,\n",
    "                      'kicker2': 75,\n",
    "                      'kicker3':90}\n",
    "trie_score = 5*tries\n",
    "conversion_score = tries * percentage_accuracy['kicker1']\n",
    "penalty_score = penalties * percentage_accuracy['kicker1'] \n",
    "##Total score \n",
    "total_score = trie_score +conversion_score + penalty_score "
   ]
  },
  {
   "cell_type": "code",
   "execution_count": null,
   "metadata": {
    "collapsed": true
   },
   "outputs": [],
   "source": []
  }
 ],
 "metadata": {
  "kernelspec": {
   "display_name": "Python 2",
   "language": "python",
   "name": "python2"
  },
  "language_info": {
   "codemirror_mode": {
    "name": "ipython",
    "version": 2
   },
   "file_extension": ".py",
   "mimetype": "text/x-python",
   "name": "python",
   "nbconvert_exporter": "python",
   "pygments_lexer": "ipython2",
   "version": "2.7.11"
  }
 },
 "nbformat": 4,
 "nbformat_minor": 0
}
