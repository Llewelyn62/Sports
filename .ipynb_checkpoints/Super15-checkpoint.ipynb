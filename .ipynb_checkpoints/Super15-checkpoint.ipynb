{
 "cells": [
  {
   "cell_type": "code",
   "execution_count": 1,
   "metadata": {
    "collapsed": false,
    "deletable": true,
    "editable": true
   },
   "outputs": [
    {
     "name": "stdout",
     "output_type": "stream",
     "text": [
      "IPython console for SymPy 1.0 (Python 3.5.2-64-bit) (ground types: python)\n",
      "\n",
      "These commands were executed:\n",
      ">>> from __future__ import division\n",
      ">>> from sympy import *\n",
      ">>> x, y, z, t = symbols('x y z t')\n",
      ">>> k, m, n = symbols('k m n', integer=True)\n",
      ">>> f, g, h = symbols('f g h', cls=Function)\n",
      ">>> init_printing()\n",
      "\n",
      "Documentation can be found at http://docs.sympy.org/1.0/\n"
     ]
    }
   ],
   "source": [
    "import numpy as np\n",
    "import scipy.linalg as la\n",
    "import scipy.optimize as op\n",
    "import matplotlib.pyplot as plt\n",
    "from sympy import init_session\n",
    "init_session()"
   ]
  },
  {
   "cell_type": "code",
   "execution_count": 2,
   "metadata": {
    "collapsed": false,
    "deletable": true,
    "editable": true
   },
   "outputs": [
    {
     "data": {
      "text/plain": [
       "<matplotlib.image.AxesImage at 0x11efd0f98>"
      ]
     },
     "execution_count": 2,
     "metadata": {},
     "output_type": "execute_result"
    },
    {
     "data": {
      "image/png": "[encoded data removed]",
      "text/plain": [
       "<matplotlib.figure.Figure at 0x1115e8e10>"
      ]
     },
     "metadata": {},
     "output_type": "display_data"
    }
   ],
   "source": [
    "%matplotlib inline\n",
    "d1=d2=d3 =1/3\n",
    "T = np.matrix([[d1,d2,d3,0,0,0,0,0,0],\n",
    "               [0,d1+d3,d2,0,0,0,0,0,0],\n",
    "               [0,d2,d1,0,d3,0,0,0,0],\n",
    "               [0,0,0,0,0,0,0,0,0],\n",
    "               [0,0,0,0,d1,0,d3,d2,0],\n",
    "               [0,0,0,0,0,0,0,0,0],\n",
    "               [0,0,0,0,0,0,d1,d2,d3],\n",
    "               [0,0,0,0,0,0,0,d1,d2+d3],\n",
    "               [0,0,0,0,0,0,0,0,1]])\n",
    "V = np.matrix([1,0,0,0,0,0,0,0,0])\n",
    "Vold = G = V\n",
    "for i in range(16):\n",
    "    Vnew = Vold*T\n",
    "    Vold = Vnew\n",
    "    G = np.row_stack((G,Vnew))\n",
    "plt.rcParams['figure.figsize'] = [8, 12]\n",
    "plt.imshow(G, cmap =  None, interpolation = 'nearest')"
   ]
  },
  {
   "cell_type": "code",
   "execution_count": 5,
   "metadata": {
    "collapsed": true,
    "deletable": true,
    "editable": true
   },
   "outputs": [],
   "source": [
    "plt.imshow?"
   ]
  },
  {
   "cell_type": "markdown",
   "metadata": {
    "deletable": true,
    "editable": true
   },
   "source": [
    "## Unit 6: Sports Ranking"
   ]
  },
  {
   "cell_type": "markdown",
   "metadata": {
    "deletable": true,
    "editable": true
   },
   "source": [
    "### The Massey system"
   ]
  },
  {
   "cell_type": "code",
   "execution_count": 4,
   "metadata": {
    "collapsed": false,
    "deletable": true,
    "editable": true
   },
   "outputs": [
    {
     "data": {
      "image/png": "[encoded data removed]",
      "text/latex": [
       "$$\\left ( \\left[\\begin{matrix}1 & -1 & 0\\\\0 & 1 & -1\\\\-1 & 0 & 1\\end{matrix}\\right], \\quad \\left[\\begin{matrix}x\\\\y\\\\z\\end{matrix}\\right], \\quad \\left[\\begin{matrix}x - y\\\\y - z\\\\- x + z\\end{matrix}\\right], \\quad \\left[\\begin{matrix}1\\\\15\\\\10\\end{matrix}\\right]\\right )$$"
      ],
      "text/plain": [
       "⎛⎡1   -1  0 ⎤, ⎡x⎤, ⎡x - y ⎤, ⎡1 ⎤⎞\n",
       "⎜⎢          ⎥  ⎢ ⎥  ⎢      ⎥  ⎢  ⎥⎟\n",
       "⎜⎢0   1   -1⎥  ⎢y⎥  ⎢y - z ⎥  ⎢15⎥⎟\n",
       "⎜⎢          ⎥  ⎢ ⎥  ⎢      ⎥  ⎢  ⎥⎟\n",
       "⎝⎣-1  0   1 ⎦  ⎣z⎦  ⎣-x + z⎦  ⎣10⎦⎠"
      ]
     },
     "execution_count": 4,
     "metadata": {},
     "output_type": "execute_result"
    }
   ],
   "source": [
    "#Team x played Team y winning by 1, Team y played TEam  winning by 15, Team x played Team z losing by 10.\n",
    "A = Matrix([[1,-1,0],[0,1,-1],[-1,0,1]])\n",
    "Teams = Matrix([x,y,z])\n",
    "Results = Matrix([1,15,10])\n",
    "A,Teams, A*Teams, Results"
   ]
  },
  {
   "cell_type": "code",
   "execution_count": null,
   "metadata": {
    "collapsed": false,
    "deletable": true,
    "editable": true
   },
   "outputs": [],
   "source": []
  },
  {
   "cell_type": "code",
   "execution_count": 5,
   "metadata": {
    "collapsed": false,
    "deletable": true,
    "editable": true
   },
   "outputs": [
    {
     "data": {
      "text/plain": [
       "(array([[1, 0, 0],\n",
       "        [0, 1, 0],\n",
       "        [1, 1, 1]], dtype=object), array([[1, 0, -1],\n",
       "        [-15, 15, 0],\n",
       "        [0, 0, 0]], dtype=object), array([[  1.00000000e+00,  -3.14018492e-15,  -1.00000000e+00],\n",
       "        [ -1.50000000e+01,   1.50000000e+01,   5.55111512e-16],\n",
       "        [  1.40000000e+01,  -1.50000000e+01,   1.00000000e+00]]))"
      ]
     },
     "execution_count": 5,
     "metadata": {},
     "output_type": "execute_result"
    }
   ],
   "source": [
    "def Massey_Rank(A, Results):\n",
    "    ''' A is the game matrix with diagonals = 1, Results is the \n",
    "    score difference for each game'''\n",
    "    A = np.array(A)\n",
    "    Results = np.array(Results)\n",
    "    #Now multiply both sides by A.T\n",
    "    M = A.T*A\n",
    "    R = A.T*Results\n",
    "    #Replace Row m with ones and row m in Results with 0\n",
    "    #m = M.cols\n",
    "    M[-1:] = 1; R[-1] = 0\n",
    "    #lstsq returns the solution, rank and singular values\n",
    "    Solution = np.linalg.lstsq(M,R)\n",
    "    return M, R, Solution[0]\n",
    "Massey_Rank(A,Results)"
   ]
  },
  {
   "cell_type": "markdown",
   "metadata": {
    "deletable": true,
    "editable": true
   },
   "source": [
    "\n",
    "The Matrix A also can be arrived at directly. This is done by placing the number of games each team (row) played, then −1∗ number of games for each Team col."
   ]
  },
  {
   "cell_type": "markdown",
   "metadata": {
    "deletable": true,
    "editable": true
   },
   "source": [
    "### The Colley Method"
   ]
  },
  {
   "cell_type": "markdown",
   "metadata": {
    "deletable": true,
    "editable": true
   },
   "source": [
    "http://www.colleyrankings.com/matrate.pdf; http://www.mathaware.org/mam/2010/essays/PasteurPredictive.pdf"
   ]
  },
  {
   "cell_type": "code",
   "execution_count": 6,
   "metadata": {
    "collapsed": false,
    "deletable": true,
    "editable": true
   },
   "outputs": [],
   "source": [
    "#Colley Method\n",
    "nw = 1.\n",
    "ntot = 2.\n",
    "nl = ntot - nw\n",
    "rating_j = 1/2.\n",
    "rating_i = (1+nw)/(2+ntot)\n",
    "rating_i\n",
    "#But when group pools or conferences are used, there is no certainty that the ratings between each group compare. \n",
    "#Colley uses a scheme whereb the actual (not 1/2) rating of the other team is added to the index team rating. \n",
    "effective_rating = (nw - (ntot-nw)/2.) + rating_j "
   ]
  },
  {
   "cell_type": "markdown",
   "metadata": {
    "deletable": true,
    "editable": true
   },
   "source": [
    "This can all be rewritten as a matrix Cr⃗ =b⃗ . The vector r⃗  is the rating for each team, which could be 1/2, or a calculated rating from another pool. The vector bi→=1+(nw,i−nl,i)2\n",
    "C=⎡⎣⎢⎢⎢⎢⎢2+ntot−1−12+ntot−1−1....−1−12+ntot⎤⎦⎥⎥⎥⎥⎥ r=⎡⎣⎢⎢⎢⎢⎢r1r2..rn⎤⎦⎥⎥⎥⎥⎥"
   ]
  },
  {
   "cell_type": "code",
   "execution_count": 7,
   "metadata": {
    "collapsed": false,
    "deletable": true,
    "editable": true
   },
   "outputs": [
    {
     "data": {
      "text/plain": [
       "(array([[5, 0, -1, -1, -1],\n",
       "        [0, 4.00000000000000, -1, 0, -1],\n",
       "        [-1, -1, 4.00000000000000, -1, -1],\n",
       "        [-1, 0, -1, 6, 0],\n",
       "        [-1, -1, -1, 0, 5]], dtype=object), numpy.ndarray)"
      ]
     },
     "execution_count": 7,
     "metadata": {},
     "output_type": "execute_result"
    }
   ],
   "source": [
    "C = eye(5)*(2+ntot)\n",
    "#b = 1 + (nw-nl)/2\n",
    "C[0,2] = C[0,3] =C[0,4] = C[1,2] = C[1,4] = C[2,0] = C[2,1] =  C[2,3] = C[2,4] = C[3,0] = C[3,2] = C[4,0] = C[4,1] = C[4,2] = -1\n",
    "C[0,0] = C[4,4] = 5\n",
    "C[3,3] = 6\n",
    "b = Matrix([1/2.,1,1,1,3/2.])\n",
    "type(C)\n",
    "Q = np.array(C)\n",
    "Q,type(Q)"
   ]
  },
  {
   "cell_type": "code",
   "execution_count": 8,
   "metadata": {
    "collapsed": false,
    "deletable": true,
    "editable": true
   },
   "outputs": [
    {
     "data": {
      "text/plain": [
       "array([[ 0.46558704],\n",
       "       [ 0.61336032],\n",
       "       [ 0.78137652],\n",
       "       [ 0.37449393],\n",
       "       [ 0.67206478]])"
      ]
     },
     "execution_count": 8,
     "metadata": {},
     "output_type": "execute_result"
    }
   ],
   "source": [
    "C = np.array(C)\n",
    "b = np.array(b)\n",
    "r_vec = np.linalg.solve(C.astype(np.float64),b.astype(np.float64))\n",
    "r_vec"
   ]
  },
  {
   "cell_type": "markdown",
   "metadata": {
    "deletable": true,
    "editable": true
   },
   "source": [
    "## Super 15 Rankings"
   ]
  },
  {
   "cell_type": "markdown",
   "metadata": {
    "deletable": true,
    "editable": true
   },
   "source": [
    "Reference to the actual Massey system http://www.masseyratings.com/rate.php?s=sr2015"
   ]
  },
  {
   "cell_type": "markdown",
   "metadata": {
    "deletable": true,
    "editable": true
   },
   "source": [
    "### Massey System"
   ]
  },
  {
   "cell_type": "code",
   "execution_count": 9,
   "metadata": {
    "collapsed": false,
    "deletable": true,
    "editable": true
   },
   "outputs": [
    {
     "data": {
      "text/plain": [
       "[<matplotlib.lines.Line2D at 0x11f01c128>]"
      ]
     },
     "execution_count": 9,
     "metadata": {},
     "output_type": "execute_result"
    },
    {
     "data": {
      "image/png": "[encoded data removed]",
      "text/plain": [
       "<matplotlib.figure.Figure at 0x11f01c080>"
      ]
     },
     "metadata": {},
     "output_type": "display_data"
    }
   ],
   "source": [
    "#Adding a logistic function as per  http://www.mathaware.org/mam/2010/essays/PasteurPredictive.pdf\n",
    "#Weight function for time is noted as 0.95^n\n",
    "Week = 1\n",
    "Weight_by_round = 0.95**(Week)\n",
    "L=50\n",
    "#They also add a logistic function with a cap at 21 and 0 in the middle.\n",
    "#Pasteur 'forgot' to provide the function but here it is -- near enough. \n",
    "def Logistic_func(X,L=50,x0=0,k=.3):\n",
    "    #L = 1 #Maximum value\n",
    "    #x0 = 0 #midpoint value\n",
    "    #k = .2 #steepness\n",
    "    r = L/(1+np.exp(-k*(X-x0)))\n",
    "    return r -L/2\n",
    "\n",
    "x1 = np.linspace(-L,L,100)\n",
    "plt.grid()\n",
    "plt.plot(x1,Logistic_func(x1))"
   ]
  },
  {
   "cell_type": "code",
   "execution_count": 37,
   "metadata": {
    "collapsed": false,
    "deletable": true,
    "editable": true
   },
   "outputs": [
    {
     "data": {
      "text/plain": [
       "(matrix([[  5.55644204],\n",
       "         [ -1.62522214],\n",
       "         [  4.1129369 ],\n",
       "         [-11.49972032],\n",
       "         [  1.90268687],\n",
       "         [ 18.73239934],\n",
       "         [-10.29089387],\n",
       "         [  7.62026034],\n",
       "         [ -3.78173492],\n",
       "         [ -9.54527059],\n",
       "         [ -3.92660516],\n",
       "         [  0.5817932 ],\n",
       "         [  5.10631432],\n",
       "         [-14.64940766],\n",
       "         [ 11.70602164]]),\n",
       " matrix([], shape=(1, 0), dtype=float64),\n",
       " 15,\n",
       " array([ 20.90925141,  20.33708994,  20.09913199,  19.42013126,\n",
       "         18.81518842,  18.34952299,  18.29299278,  17.57288581,\n",
       "         17.35401851,  16.61572563,  16.20989153,  13.53517076,\n",
       "         12.55112322,   4.71271593,   3.87131122]))"
      ]
     },
     "execution_count": 37,
     "metadata": {},
     "output_type": "execute_result"
    }
   ],
   "source": [
    "# To end of Round 9 http://www.superrugby.co.nz/Grandstand\n",
    "S15 = Matrix([[16,-1,-1,-1,-1,-2,-2,-2,-1,-1,-1,0,-1,0,-2],#Crus\n",
    "              [-1,16,-2,-2,-1,-1,-1,-1,-1,0,-1,-1,-2,-2,0],#Reb\n",
    "              [-1,-2,18,-2,-1,-1,-1,-1,0,-1,-1,-2,-2,-2,-1],#Brum\n",
    "              [-1,-2,-2,16,-1,-1,0,-1,-1,-1,-1,0,-2,-2,-1],#Red\n",
    "              [-1,-1,-1,-1,16,-1,-1,0,-2,-2,-2,-2,-1,0,-1],#Lion\n",
    "              [-2,-1,-1,-1,-1,17,-2,-2,-1,0,-1,-1,-1,-1,-2],#Hurr\n",
    "              [-2,-1,-1,0,-1,-2,16,-2,0,-1,-1,-1,-1,-1,-2],#Blues\n",
    "              [-2,-1,-1,-1,0,-2,-2,17,-1,-1,-1,-1,0,-1,-3],#Chiefs\n",
    "              [-1,-1,0,-1,-2,-1,0,-1,16,-2,-2,-2,-1,-1,-1],#Sharks\n",
    "              [-1,0,-1,-1,-2,0,-1,-1,-2,17,-2,-2,-1,-1,-1],#Cheetahs\n",
    "              [-1,-1,-1,-1,-2,-1,-1,-1,-2,-2,16,-2,0,-1,0],#Bulls\n",
    "              [0,-1,-2,0,-2,-1,-1,-1,-2,-2,-2,17,-1,-1,-1],#Stormers\n",
    "              [-1,-2,-2,-2,-1,-1,-1,0,-1,-1,0,-1,17,-2,-2],#Waratahs\n",
    "              [0,-2,-2,-2,0,-1,-1,-1,-1,-1,-1,-1,-2,16,-1],#Force\n",
    "              [-2,0,-1,-1,-1,-2,-2,-3,-1,-1,0,-1,-2,-1,18],#Highlanders\n",
    "              ])\n",
    "\n",
    "#Create base matrix of score differentials across Teams (row) x Round (col)\n",
    "S15_Base = np.matrix([[-10,6,-24,0,28,43,-12,42,-5,-17,14,-6,41,0,-10,17,23,13,0,0],#Crus\n",
    "                       [10,-10,-5,0,4,-4,-24,8,0,5,-2,1,20,-17,16,-4,1,-2,0,0],#Reb\n",
    "                       [44,-2,5,12,29,-15,0,17,-2,-5,13,-3,-1,10,0,6,13,-13,20,-20],#Brum\n",
    "                       [-44,12,-7,-18,-29,0,-1,-8,-21,1,-16,0,-41,17,-7,22,-21,-26,0,0],#Red              \n",
    "                       [-14,-17,-3,3,-28,4,1,4,2,0,5,-2,5,-10,23,5,0,0,0,0],#Lion              \n",
    "                       [14,4,29,0,7,7,24,5,0,-5,16,6,8,4,24,-17,36,8,0,20],#Hurr\n",
    "                       [-5,-11,-1,-3,-7,0,-12,-7,2,-6,-14,17,-20,5,-24,0,-23,-37,0,0],#Blues\n",
    "                       [5,2,24,-3,9,-1,10,7,0,17,8,-1,0,-4,14,-27,21,-8,-10,0],#Chiefs\n",
    "                       [-6,17,-8,-16,17,1,6,-42,-2,-7,0,-33,-8,-15,7,4,0,22,0,0],#Sharks\n",
    "                       [6,0,1,-19,-17,-43,-10,-17,9,-1,-5,8,0,-21,-23,-30,-25,13,0,0],#Cheetahs\n",
    "                       [-12,-4,8,19,0,1,12,-4,21,7,-2,2,0,-5,-14,-6,-1,-13,0,0],#Bulls\n",
    "                       [12,11,3,16,-9,0,-18,-5,14,7,2,-8,1,0,-16,30,0,-22,-20,0],#Stormers\n",
    "                       [-12,10,0,18,-7,15,12,0,-14,5,2,3,-7,15,10,-5,25,26,0,-18],#Waratahs\n",
    "                       [12,-12,-29,-12,-4,-1,-6,0,-9,-7,-8,-17,7,0,-20,-22,-13,2,0,0],#Force\n",
    "                       [0,-6,7,3,7,-7,18,0,5,6,-13,33,-5,21,20,27,-36,37,0,18],#Highlanders\n",
    "                       ])\n",
    "\n",
    "#2017 Hockey results\n",
    "Hockey = Matrix([[0,-1,0,0,0,0,0,0],#TNT1\n",
    "                 [-1,0,0,0,0,0,0,0],#Ruamata\n",
    "                 [0,0,0,-1,0,0,0,0],#JPC1\n",
    "                 [0,0,-1,0,0,0,0,0],#Tauhara\n",
    "                 [0,0,0,0,2,-1,0,-1],#RBHS1\n",
    "                 [0,0,0,0,-1,0,0,0],#Trident\n",
    "                 [0,0,0,0,0,0,0,-1],#WHHS1\n",
    "                 [0,0,0,0,-1,0,-1,0],#RLHS\n",
    "                ])\n",
    "\n",
    "Hockey_Base = Matrix([[6,0],#TNT1\n",
    "                      [-6,0],#Ruamata\n",
    "                      [0,0],#JPC1\n",
    "                      [0,0],#Tauhara\n",
    "                      [1,9],#RBHS1\n",
    "                      [-1,0],#Trident\n",
    "                      [2,0],#WHHS1\n",
    "                      [-2,-9],#RLHS\n",
    "                     ])\n",
    "\n",
    "TNT,Rua,JPC,Tau,RBHS,Tri,WHHS,RLHS = symbols('TNT Ruamata JPC Tauhara RBHS Trident WHHS RLHS')\n",
    "\n",
    "#Apply time correction\n",
    "x2 = [0.95**(np.shape(S15_Base)[1]-1-i) for i in range(np.shape(S15_Base)[1])]\n",
    "Timebase = np.multiply(S15_Base,2)\n",
    "\n",
    "#Apply Logistic function to matrix\n",
    "Log_array = np.frompyfunc(Logistic_func,1,1)\n",
    "S15Results = Log_array(Timebase)\n",
    "\n",
    "#Sum the Columns of Scores x Week\n",
    "S15Results= S15Results.sum(axis=1)\n",
    " \n",
    "Cr, Reb, Br, Red,Li,Hu,Bl,Chief,Sh,Cheet,Bull,St,Wa,Fo,Hi = symbols('Crusaders Rebels Brumbies Reds Lions Hurricanes Blues Chiefs Sharks Cheetahs Bulls Stormers Waratahs Force Highlanders')\n",
    "S15_names = Matrix([Cr, Reb, Br, Red,Li,Hu,Bl,Chief,Sh,Cheet,Bull,St,Wa,Fo,Hi])\n",
    "#Massey_Rank(S15,S15Results)\n",
    "S15_M = S15.copy()\n",
    "m = S15_M.cols\n",
    "S15_M[-1*m] = ones(1, m); S15Results[-1] = 0\n",
    "    #lstsq returns the solution, rank and singular values\n",
    "np.linalg.lstsq(S15_M,S15Results)\n",
    "#x2, Timebase"
   ]
  },
  {
   "cell_type": "code",
   "execution_count": 33,
   "metadata": {
    "collapsed": false,
    "deletable": true,
    "editable": true
   },
   "outputs": [
    {
     "name": "stdout",
     "output_type": "stream",
     "text": [
      "[array([Hurricanes, 18.7323993431640], dtype=object),\n",
      " array([Highlanders, 11.7060216403192], dtype=object),\n",
      " array([Chiefs, 7.62026034372690], dtype=object),\n",
      " array([Crusaders, 5.55644204106567], dtype=object),\n",
      " array([Waratahs, 5.10631431759447], dtype=object),\n",
      " array([Brumbies, 4.11293690311686], dtype=object),\n",
      " array([Lions, 1.90268686589085], dtype=object),\n",
      " array([Stormers, 0.581793198110740], dtype=object),\n",
      " array([Rebels, -1.62522213955495], dtype=object),\n",
      " array([Sharks, -3.78173492079005], dtype=object),\n",
      " array([Bulls, -3.92660516045860], dtype=object),\n",
      " array([Cheetahs, -9.54527058647894], dtype=object),\n",
      " array([Blues, -10.2908938665383], dtype=object),\n",
      " array([Reds, -11.4997203208843], dtype=object),\n",
      " array([Force, -14.6494076582836], dtype=object)]\n"
     ]
    }
   ],
   "source": [
    "S15_rank = Matrix([S15_names.T,np.linalg.lstsq(S15_M,S15Results)[0]])\n",
    "Week11_rank = list(np.array(S15_rank.T))\n",
    "Week11_rank.sort(key=lambda row: row[1:], reverse=True)\n",
    "import pprint\n",
    "pprint.pprint(Week11_rank[:])"
   ]
  },
  {
   "cell_type": "code",
   "execution_count": 12,
   "metadata": {
    "collapsed": false,
    "deletable": true,
    "editable": true
   },
   "outputs": [
    {
     "data": {
      "image/png": "[encoded data removed]",
      "text/latex": [
       "$$\\left ( \\left[\\begin{array}{ccccccccccccccc}0.05 & 0.2 & -0.17 & -0.09 & -0.3 & -0.42 & -0.23 & 0.35 & -0.14 & -0.06 & 0.19 & -0.44 & -0.3 & 0.27 & -0.26\\\\-0.24 & 0.08 & 0.28 & 0.05 & -0.01 & 0.3 & -0.32 & 0.2 & 0.34 & -0.23 & 0.47 & -0.01 & 0.39 & 0.07 & -0.26\\\\-0.1 & -0.69 & -0.24 & -0.13 & -0.09 & -0.25 & -0.3 & -0.24 & -0.19 & 0.11 & 0.12 & 0.17 & 0.24 & 0.06 & -0.26\\\\0.0 & 0.24 & -0.2 & -0.28 & 0.26 & 0.24 & 0.12 & -0.31 & -0.36 & -0.12 & -0.11 & -0.45 & 0.4 & 0.07 & -0.26\\\\0.15 & -0.03 & -0.05 & 0.19 & -0.44 & 0.3 & 0.25 & -0.23 & 0.0 & 0.38 & 0.36 & -0.2 & -0.13 & -0.38 & -0.26\\\\0.01 & -0.07 & 0.47 & -0.32 & 0.02 & -0.3 & 0.4 & -0.39 & 0.31 & -0.11 & 0.08 & -0.03 & -0.18 & 0.24 & -0.26\\\\0.02 & -0.05 & -0.26 & -0.24 & 0.3 & 0.33 & 0.29 & 0.32 & -0.13 & 0.12 & 0.27 & 0.39 & -0.29 & 0.28 & -0.26\\\\0.51 & -0.09 & 0.06 & 0.25 & -0.08 & 0.35 & -0.33 & -0.22 & 0.02 & -0.3 & -0.28 & 0.08 & -0.25 & 0.27 & -0.26\\\\-0.02 & -0.3 & -0.28 & -0.17 & 0.14 & 0.07 & 0.07 & 0.27 & 0.52 & -0.14 & -0.34 & -0.28 & -0.09 & -0.37 & -0.26\\\\-0.09 & -0.06 & 0.59 & -0.28 & -0.03 & 0.11 & -0.17 & 0.27 & -0.42 & 0.16 & -0.27 & 0.04 & -0.12 & -0.31 & -0.24\\\\-0.08 & -0.01 & 0.01 & 0.45 & 0.28 & -0.26 & 0.18 & -0.01 & -0.29 & -0.51 & 0.19 & 0.1 & -0.12 & -0.38 & -0.26\\\\0.06 & 0.53 & -0.2 & -0.23 & 0.07 & -0.19 & -0.35 & -0.27 & 0.19 & 0.14 & -0.02 & 0.4 & -0.06 & -0.31 & -0.26\\\\0.39 & 0.01 & 0.15 & 0.36 & 0.39 & -0.26 & 0.04 & 0.19 & 0.1 & 0.49 & -0.05 & -0.08 & 0.31 & 0.11 & -0.26\\\\0.03 & 0.14 & -0.08 & 0.04 & -0.53 & -0.09 & 0.37 & 0.23 & -0.03 & -0.16 & -0.32 & 0.35 & 0.41 & 0.08 & -0.26\\\\-0.69 & 0.09 & -0.05 & 0.39 & 0.02 & 0.08 & -0.03 & -0.15 & 0.05 & 0.25 & -0.31 & -0.04 & -0.2 & 0.26 & -0.26\\end{array}\\right], \\quad \\left[\\begin{matrix}21.62\\\\20.89\\\\20.11\\\\19.78\\\\19.42\\\\18.78\\\\18.32\\\\18.12\\\\17.4\\\\16.64\\\\16.58\\\\16.21\\\\12.73\\\\12.33\\\\0.06\\end{matrix}\\right], \\quad \\left[\\begin{array}{ccccccccccccccc}0.05 & -0.24 & -0.1 & 0.0 & 0.15 & 0.01 & 0.02 & 0.51 & -0.02 & -0.09 & -0.08 & 0.06 & 0.39 & 0.03 & -0.69\\\\0.2 & 0.08 & -0.69 & 0.24 & -0.03 & -0.07 & -0.05 & -0.09 & -0.3 & -0.06 & -0.01 & 0.53 & 0.01 & 0.14 & 0.09\\\\-0.17 & 0.28 & -0.24 & -0.2 & -0.05 & 0.47 & -0.26 & 0.06 & -0.28 & 0.59 & 0.01 & -0.2 & 0.15 & -0.08 & -0.05\\\\-0.09 & 0.05 & -0.13 & -0.28 & 0.19 & -0.32 & -0.24 & 0.25 & -0.17 & -0.28 & 0.45 & -0.23 & 0.36 & 0.04 & 0.39\\\\-0.3 & -0.01 & -0.09 & 0.26 & -0.44 & 0.02 & 0.3 & -0.08 & 0.14 & -0.03 & 0.28 & 0.07 & 0.39 & -0.53 & 0.02\\\\-0.42 & 0.3 & -0.25 & 0.24 & 0.3 & -0.3 & 0.33 & 0.35 & 0.07 & 0.11 & -0.26 & -0.19 & -0.26 & -0.09 & 0.08\\\\-0.23 & -0.32 & -0.3 & 0.12 & 0.25 & 0.4 & 0.29 & -0.33 & 0.07 & -0.17 & 0.18 & -0.35 & 0.04 & 0.37 & -0.03\\\\0.35 & 0.2 & -0.24 & -0.31 & -0.23 & -0.39 & 0.32 & -0.22 & 0.27 & 0.27 & -0.01 & -0.27 & 0.19 & 0.23 & -0.15\\\\-0.14 & 0.34 & -0.19 & -0.36 & 0.0 & 0.31 & -0.13 & 0.02 & 0.52 & -0.42 & -0.29 & 0.19 & 0.1 & -0.03 & 0.05\\\\-0.06 & -0.23 & 0.11 & -0.12 & 0.38 & -0.11 & 0.12 & -0.3 & -0.14 & 0.16 & -0.51 & 0.14 & 0.49 & -0.16 & 0.25\\\\0.19 & 0.47 & 0.12 & -0.11 & 0.36 & 0.08 & 0.27 & -0.28 & -0.34 & -0.27 & 0.19 & -0.02 & -0.05 & -0.32 & -0.31\\\\-0.44 & -0.01 & 0.17 & -0.45 & -0.2 & -0.03 & 0.39 & 0.08 & -0.28 & 0.04 & 0.1 & 0.4 & -0.08 & 0.35 & -0.04\\\\-0.3 & 0.39 & 0.24 & 0.4 & -0.13 & -0.18 & -0.29 & -0.25 & -0.09 & -0.12 & -0.12 & -0.06 & 0.31 & 0.41 & -0.2\\\\0.27 & 0.07 & 0.06 & 0.07 & -0.38 & 0.24 & 0.28 & 0.27 & -0.37 & -0.31 & -0.38 & -0.31 & 0.11 & 0.08 & 0.26\\\\-0.26 & -0.26 & -0.26 & -0.26 & -0.26 & -0.26 & -0.26 & -0.26 & -0.26 & -0.24 & -0.26 & -0.26 & -0.26 & -0.26 & -0.26\\end{array}\\right]\\right )$$"
      ],
      "text/plain": [
       "⎛⎡0.05    0.2   -0.17  -0.09  -0.3   -0.42  -0.23  0.35   -0.14  -0.06  0.19  \n",
       "⎜⎢                                                                            \n",
       "⎜⎢-0.24  0.08   0.28   0.05   -0.01   0.3   -0.32   0.2   0.34   -0.23  0.47  \n",
       "⎜⎢                                                                            \n",
       "⎜⎢-0.1   -0.69  -0.24  -0.13  -0.09  -0.25  -0.3   -0.24  -0.19  0.11   0.12  \n",
       "⎜⎢                                                                            \n",
       "⎜⎢ 0.0   0.24   -0.2   -0.28  0.26   0.24   0.12   -0.31  -0.36  -0.12  -0.11 \n",
       "⎜⎢                                                                            \n",
       "⎜⎢0.15   -0.03  -0.05  0.19   -0.44   0.3   0.25   -0.23   0.0   0.38   0.36  \n",
       "⎜⎢                                                                            \n",
       "⎜⎢0.01   -0.07  0.47   -0.32  0.02   -0.3    0.4   -0.39  0.31   -0.11  0.08  \n",
       "⎜⎢                                                                            \n",
       "⎜⎢0.02   -0.05  -0.26  -0.24   0.3   0.33   0.29   0.32   -0.13  0.12   0.27  \n",
       "⎜⎢                                                                            \n",
       "⎜⎢0.51   -0.09  0.06   0.25   -0.08  0.35   -0.33  -0.22  0.02   -0.3   -0.28 \n",
       "⎜⎢                                                                            \n",
       "⎜⎢-0.02  -0.3   -0.28  -0.17  0.14   0.07   0.07   0.27   0.52   -0.14  -0.34 \n",
       "⎜⎢                                                                            \n",
       "⎜⎢-0.09  -0.06  0.59   -0.28  -0.03  0.11   -0.17  0.27   -0.42  0.16   -0.27 \n",
       "⎜⎢                                                                            \n",
       "⎜⎢-0.08  -0.01  0.01   0.45   0.28   -0.26  0.18   -0.01  -0.29  -0.51  0.19  \n",
       "⎜⎢                                                                            \n",
       "⎜⎢0.06   0.53   -0.2   -0.23  0.07   -0.19  -0.35  -0.27  0.19   0.14   -0.02 \n",
       "⎜⎢                                                                            \n",
       "⎜⎢0.39   0.01   0.15   0.36   0.39   -0.26  0.04   0.19    0.1   0.49   -0.05 \n",
       "⎜⎢                                                                            \n",
       "⎜⎢0.03   0.14   -0.08  0.04   -0.53  -0.09  0.37   0.23   -0.03  -0.16  -0.32 \n",
       "⎜⎢                                                                            \n",
       "⎝⎣-0.69  0.09   -0.05  0.39   0.02   0.08   -0.03  -0.15  0.05   0.25   -0.31 \n",
       "\n",
       " -0.44  -0.3   0.27   -0.26⎤, ⎡21.62⎤, ⎡0.05   -0.24  -0.1    0.0   0.15   0.0\n",
       "                           ⎥  ⎢     ⎥  ⎢                                      \n",
       " -0.01  0.39   0.07   -0.26⎥  ⎢20.89⎥  ⎢ 0.2   0.08   -0.69  0.24   -0.03  -0.\n",
       "                           ⎥  ⎢     ⎥  ⎢                                      \n",
       " 0.17   0.24   0.06   -0.26⎥  ⎢20.11⎥  ⎢-0.17  0.28   -0.24  -0.2   -0.05  0.4\n",
       "                           ⎥  ⎢     ⎥  ⎢                                      \n",
       " -0.45   0.4   0.07   -0.26⎥  ⎢19.78⎥  ⎢-0.09  0.05   -0.13  -0.28  0.19   -0.\n",
       "                           ⎥  ⎢     ⎥  ⎢                                      \n",
       " -0.2   -0.13  -0.38  -0.26⎥  ⎢19.42⎥  ⎢-0.3   -0.01  -0.09  0.26   -0.44  0.0\n",
       "                           ⎥  ⎢     ⎥  ⎢                                      \n",
       " -0.03  -0.18  0.24   -0.26⎥  ⎢18.78⎥  ⎢-0.42   0.3   -0.25  0.24    0.3   -0.\n",
       "                           ⎥  ⎢     ⎥  ⎢                                      \n",
       " 0.39   -0.29  0.28   -0.26⎥  ⎢18.32⎥  ⎢-0.23  -0.32  -0.3   0.12   0.25    0.\n",
       "                           ⎥  ⎢     ⎥  ⎢                                      \n",
       " 0.08   -0.25  0.27   -0.26⎥  ⎢18.12⎥  ⎢0.35    0.2   -0.24  -0.31  -0.23  -0.\n",
       "                           ⎥  ⎢     ⎥  ⎢                                      \n",
       " -0.28  -0.09  -0.37  -0.26⎥  ⎢17.4 ⎥  ⎢-0.14  0.34   -0.19  -0.36   0.0   0.3\n",
       "                           ⎥  ⎢     ⎥  ⎢                                      \n",
       " 0.04   -0.12  -0.31  -0.24⎥  ⎢16.64⎥  ⎢-0.06  -0.23  0.11   -0.12  0.38   -0.\n",
       "                           ⎥  ⎢     ⎥  ⎢                                      \n",
       "  0.1   -0.12  -0.38  -0.26⎥  ⎢16.58⎥  ⎢0.19   0.47   0.12   -0.11  0.36   0.0\n",
       "                           ⎥  ⎢     ⎥  ⎢                                      \n",
       "  0.4   -0.06  -0.31  -0.26⎥  ⎢16.21⎥  ⎢-0.44  -0.01  0.17   -0.45  -0.2   -0.\n",
       "                           ⎥  ⎢     ⎥  ⎢                                      \n",
       " -0.08  0.31   0.11   -0.26⎥  ⎢12.73⎥  ⎢-0.3   0.39   0.24    0.4   -0.13  -0.\n",
       "                           ⎥  ⎢     ⎥  ⎢                                      \n",
       " 0.35   0.41   0.08   -0.26⎥  ⎢12.33⎥  ⎢0.27   0.07   0.06   0.07   -0.38  0.2\n",
       "                           ⎥  ⎢     ⎥  ⎢                                      \n",
       " -0.04  -0.2   0.26   -0.26⎦  ⎣0.06 ⎦  ⎣-0.26  -0.26  -0.26  -0.26  -0.26  -0.\n",
       "\n",
       "1   0.02   0.51   -0.02  -0.09  -0.08  0.06   0.39   0.03   -0.69⎤⎞\n",
       "                                                                 ⎥⎟\n",
       "07  -0.05  -0.09  -0.3   -0.06  -0.01  0.53   0.01   0.14   0.09 ⎥⎟\n",
       "                                                                 ⎥⎟\n",
       "7   -0.26  0.06   -0.28  0.59   0.01   -0.2   0.15   -0.08  -0.05⎥⎟\n",
       "                                                                 ⎥⎟\n",
       "32  -0.24  0.25   -0.17  -0.28  0.45   -0.23  0.36   0.04   0.39 ⎥⎟\n",
       "                                                                 ⎥⎟\n",
       "2    0.3   -0.08  0.14   -0.03  0.28   0.07   0.39   -0.53  0.02 ⎥⎟\n",
       "                                                                 ⎥⎟\n",
       "3   0.33   0.35   0.07   0.11   -0.26  -0.19  -0.26  -0.09  0.08 ⎥⎟\n",
       "                                                                 ⎥⎟\n",
       "4   0.29   -0.33  0.07   -0.17  0.18   -0.35  0.04   0.37   -0.03⎥⎟\n",
       "                                                                 ⎥⎟\n",
       "39  0.32   -0.22  0.27   0.27   -0.01  -0.27  0.19   0.23   -0.15⎥⎟\n",
       "                                                                 ⎥⎟\n",
       "1   -0.13  0.02   0.52   -0.42  -0.29  0.19    0.1   -0.03  0.05 ⎥⎟\n",
       "                                                                 ⎥⎟\n",
       "11  0.12   -0.3   -0.14  0.16   -0.51  0.14   0.49   -0.16  0.25 ⎥⎟\n",
       "                                                                 ⎥⎟\n",
       "8   0.27   -0.28  -0.34  -0.27  0.19   -0.02  -0.05  -0.32  -0.31⎥⎟\n",
       "                                                                 ⎥⎟\n",
       "03  0.39   0.08   -0.28  0.04    0.1    0.4   -0.08  0.35   -0.04⎥⎟\n",
       "                                                                 ⎥⎟\n",
       "18  -0.29  -0.25  -0.09  -0.12  -0.12  -0.06  0.31   0.41   -0.2 ⎥⎟\n",
       "                                                                 ⎥⎟\n",
       "4   0.28   0.27   -0.37  -0.31  -0.38  -0.31  0.11   0.08   0.26 ⎥⎟\n",
       "                                                                 ⎥⎟\n",
       "26  -0.26  -0.26  -0.26  -0.24  -0.26  -0.26  -0.26  -0.26  -0.26⎦⎠"
      ]
     },
     "execution_count": 12,
     "metadata": {},
     "output_type": "execute_result"
    }
   ],
   "source": [
    "#what about some features of this matrix?\n",
    "import scipy.linalg as la\n",
    "S15n = np.array(S15)\n",
    "S15_orth =la.orth(S15n.astype(np.float64))\n",
    "w,v = la.eig(S15n.astype(np.float64))\n",
    "S,D,V = la.svd(S15n.astype(np.float64))\n",
    "Matrix(S.round(2)),Matrix(D.round(2)),Matrix(V.round(2))"
   ]
  },
  {
   "cell_type": "markdown",
   "metadata": {
    "deletable": true,
    "editable": true
   },
   "source": [
    "### Colley System"
   ]
  },
  {
   "cell_type": "code",
   "execution_count": 36,
   "metadata": {
    "collapsed": false,
    "deletable": true,
    "editable": true
   },
   "outputs": [
    {
     "data": {
      "text/plain": [
       "(matrix([[2, 2, 2, 2, 2, 2, 2, 2, 2, 3, 2, 2, 2, 2, 2]], dtype=object),\n",
       " Matrix([\n",
       " [ 2.0],\n",
       " [ 1.0],\n",
       " [ 2.0],\n",
       " [-3.0],\n",
       " [ 2.5],\n",
       " [ 7.5],\n",
       " [-4.0],\n",
       " [ 2.5],\n",
       " [ 0.0],\n",
       " [-2.0],\n",
       " [ 0.0],\n",
       " [ 2.0],\n",
       " [ 3.5],\n",
       " [-4.0],\n",
       " [ 4.5]]),\n",
       " Matrix([\n",
       " [18, -1, -1, -1, -1, -2, -2, -2, -1, -1, -1,  0, -1,  0, -2],\n",
       " [-1, 18, -2, -2, -1, -1, -1, -1, -1,  0, -1, -1, -2, -2,  0],\n",
       " [-1, -2, 20, -2, -1, -1, -1, -1,  0, -1, -1, -2, -2, -2, -1],\n",
       " [-1, -2, -2, 18, -1, -1,  0, -1, -1, -1, -1,  0, -2, -2, -1],\n",
       " [-1, -1, -1, -1, 18, -1, -1,  0, -2, -2, -2, -2, -1,  0, -1],\n",
       " [-2, -1, -1, -1, -1, 19, -2, -2, -1,  0, -1, -1, -1, -1, -2],\n",
       " [-2, -1, -1,  0, -1, -2, 18, -2,  0, -1, -1, -1, -1, -1, -2],\n",
       " [-2, -1, -1, -1,  0, -2, -2, 19, -1, -1, -1, -1,  0, -1, -3],\n",
       " [-1, -1,  0, -1, -2, -1,  0, -1, 18, -2, -2, -2, -1, -1, -1],\n",
       " [-1,  0, -1, -1, -2,  0, -1, -1, -2, 19, -2, -2, -1, -1, -1],\n",
       " [-1, -1, -1, -1, -2, -1, -1, -1, -2, -2, 18, -2,  0, -1,  0],\n",
       " [ 0, -1, -2,  0, -2, -1, -1, -1, -2, -2, -2, 19, -1, -1, -1],\n",
       " [-1, -2, -2, -2, -1, -1, -1,  0, -1, -1,  0, -1, 19, -2, -2],\n",
       " [ 0, -2, -2, -2,  0, -1, -1, -1, -1, -1, -1, -1, -2, 18, -1],\n",
       " [-2,  0, -1, -1, -1, -2, -2, -3, -1, -1,  0, -1, -2, -1, 20]]))"
      ]
     },
     "execution_count": 36,
     "metadata": {},
     "output_type": "execute_result"
    }
   ],
   "source": [
    "#Colley Matrix approach\n",
    "#bi = 1 + 1/2 (wi − li)\n",
    "#Manual approach\n",
    "#================================================\n",
    "# Results_C = Matrix([[2+4-5],#Crusaders\\n\",\n",
    "#                          [2+4-4],#Rebels\\n\",\n",
    "#                           [2+5-4],#Brumbies\\n\",\n",
    "#                           [2+2-7],#Reds\\n\",\n",
    "#                           [2+5-4],#Lions\\n\",\n",
    "#                           [2+7-1],#Hurr\\n\",\n",
    "#                           [2+1-8],#Blues\\n\",\n",
    "#                           [2+7-2],#Chiefs\\n\",\n",
    "#                           [2+4-6],#Sharks\\n\",\n",
    "#                           [2+3-6],#Cheetahs\\n\",\n",
    "#                           [2+6-3],#Bulls\\n\",\n",
    "#                           [2+6-3],#Stormers\\n\",\n",
    "#                           [2+5-3],#Waratahs\\n\",\n",
    "#                           [2+1-8],#Force\\n\",\n",
    "#                           [2+6-2],#Highlanders\\n\",\n",
    "#                           ])/2\n",
    "# S15_Colley = S15 + 2*eye(15)\n",
    "# shape(S15_Colley), shape(Results_C)\n",
    "#A more elegant way using the Base results...\n",
    "Results_C = ((S15_Base.clip(-1,1)).sum(axis=1)/2.)+1\n",
    "S15_Colley = S15.copy()+eye(15)*2\n",
    "np.matrix(Matrix(S15_Colley)).sum(axis=0),Matrix(Results_C),S15_Colley"
   ]
  },
  {
   "cell_type": "code",
   "execution_count": 14,
   "metadata": {
    "collapsed": false,
    "deletable": true,
    "editable": true
   },
   "outputs": [
    {
     "data": {
      "image/png": "[encoded data removed]",
      "text/latex": [
       "$$\\left[\\begin{array}{ccccccccccccccc}0 & 0 & 0 & 0 & 0 & 0 & 0 & 0 & 0 & 0 & 0 & 0 & 0 & 0 & 0\\\\0 & 0 & 0 & 0 & 0 & 0 & 0 & 0 & 0 & 0 & 0 & 0 & 0 & 0 & 0\\\\0 & 0 & 0 & 0 & 0 & 0 & 0 & 0 & 0 & 0 & 0 & 0 & 0 & 0 & 0\\\\0 & 0 & 0 & 0 & 0 & 0 & 0 & 0 & 0 & 0 & 0 & 0 & 0 & 0 & 0\\\\0 & 0 & 0 & 0 & 0 & 0 & 0 & 0 & 0 & 0 & 0 & 0 & 0 & 0 & 0\\\\0 & 0 & 0 & 0 & 0 & 0 & 0 & 0 & 0 & 0 & 0 & 0 & 0 & 0 & 0\\\\0 & 0 & 0 & 0 & 0 & 0 & 0 & 0 & 0 & 0 & 0 & 0 & 0 & 0 & 0\\\\0 & 0 & 0 & 0 & 0 & 0 & 0 & 0 & 0 & 0 & 0 & 0 & 0 & 0 & 0\\\\0 & 0 & 0 & 0 & 0 & 0 & 0 & 0 & 0 & 0 & 0 & 0 & 0 & 0 & 0\\\\0 & 0 & 0 & 0 & 0 & 0 & 0 & 0 & 0 & 0 & 0 & 0 & 0 & 0 & 0\\\\0 & 0 & 0 & 0 & 0 & 0 & 0 & 0 & 0 & 0 & 0 & 0 & 0 & 0 & 0\\\\0 & 0 & 0 & 0 & 0 & 0 & 0 & 0 & 0 & 0 & 0 & 0 & 0 & 0 & 0\\\\0 & 0 & 0 & 0 & 0 & 0 & 0 & 0 & 0 & 0 & 0 & 0 & 0 & 0 & 0\\\\0 & 0 & 0 & 0 & 0 & 0 & 0 & 0 & 0 & 0 & 0 & 0 & 0 & 0 & 0\\\\0 & 0 & 0 & 0 & 0 & 0 & 0 & 0 & 0 & 0 & 0 & 0 & 0 & 0 & 0\\end{array}\\right]$$"
      ],
      "text/plain": [
       "⎡0  0  0  0  0  0  0  0  0  0  0  0  0  0  0⎤\n",
       "⎢                                           ⎥\n",
       "⎢0  0  0  0  0  0  0  0  0  0  0  0  0  0  0⎥\n",
       "⎢                                           ⎥\n",
       "⎢0  0  0  0  0  0  0  0  0  0  0  0  0  0  0⎥\n",
       "⎢                                           ⎥\n",
       "⎢0  0  0  0  0  0  0  0  0  0  0  0  0  0  0⎥\n",
       "⎢                                           ⎥\n",
       "⎢0  0  0  0  0  0  0  0  0  0  0  0  0  0  0⎥\n",
       "⎢                                           ⎥\n",
       "⎢0  0  0  0  0  0  0  0  0  0  0  0  0  0  0⎥\n",
       "⎢                                           ⎥\n",
       "⎢0  0  0  0  0  0  0  0  0  0  0  0  0  0  0⎥\n",
       "⎢                                           ⎥\n",
       "⎢0  0  0  0  0  0  0  0  0  0  0  0  0  0  0⎥\n",
       "⎢                                           ⎥\n",
       "⎢0  0  0  0  0  0  0  0  0  0  0  0  0  0  0⎥\n",
       "⎢                                           ⎥\n",
       "⎢0  0  0  0  0  0  0  0  0  0  0  0  0  0  0⎥\n",
       "⎢                                           ⎥\n",
       "⎢0  0  0  0  0  0  0  0  0  0  0  0  0  0  0⎥\n",
       "⎢                                           ⎥\n",
       "⎢0  0  0  0  0  0  0  0  0  0  0  0  0  0  0⎥\n",
       "⎢                                           ⎥\n",
       "⎢0  0  0  0  0  0  0  0  0  0  0  0  0  0  0⎥\n",
       "⎢                                           ⎥\n",
       "⎢0  0  0  0  0  0  0  0  0  0  0  0  0  0  0⎥\n",
       "⎢                                           ⎥\n",
       "⎣0  0  0  0  0  0  0  0  0  0  0  0  0  0  0⎦"
      ]
     },
     "execution_count": 14,
     "metadata": {},
     "output_type": "execute_result"
    }
   ],
   "source": [
    "S15_Colley.T-S15_Colley"
   ]
  },
  {
   "cell_type": "code",
   "execution_count": 35,
   "metadata": {
    "collapsed": false,
    "deletable": true,
    "editable": true
   },
   "outputs": [
    {
     "name": "stdout",
     "output_type": "stream",
     "text": [
      "[array([Hurricanes, 0.819781291155122], dtype=object),\n",
      " array([Highlanders, 0.672810800693747], dtype=object),\n",
      " array([Waratahs, 0.587074123762758], dtype=object),\n",
      " array([Chiefs, 0.573171428034807], dtype=object),\n",
      " array([Crusaders, 0.563927264918126], dtype=object),\n",
      " array([Lions, 0.551026975155018], dtype=object),\n",
      " array([Stormers, 0.522560312571418], dtype=object),\n",
      " array([Brumbies, 0.510330539732695], dtype=object),\n",
      " array([Rebels, 0.458567689355139], dtype=object),\n",
      " array([Sharks, 0.425936198946082], dtype=object),\n",
      " array([Bulls, 0.401730534134986], dtype=object),\n",
      " array([Cheetahs, 0.286483172697427], dtype=object),\n",
      " array([Reds, 0.267132317971032], dtype=object),\n",
      " array([Blues, 0.265441088501894], dtype=object),\n",
      " array([Force, 0.200784676021041], dtype=object)]\n"
     ]
    },
    {
     "data": {
      "text/plain": [
       "array([[ 0.56392726],\n",
       "       [ 0.45856769],\n",
       "       [ 0.51033054],\n",
       "       [ 0.26713232],\n",
       "       [ 0.55102698],\n",
       "       [ 0.81978129],\n",
       "       [ 0.26544109],\n",
       "       [ 0.57317143],\n",
       "       [ 0.4259362 ],\n",
       "       [ 0.28648317],\n",
       "       [ 0.40173053],\n",
       "       [ 0.52256031],\n",
       "       [ 0.58707412],\n",
       "       [ 0.20078468],\n",
       "       [ 0.6728108 ]])"
      ]
     },
     "execution_count": 35,
     "metadata": {},
     "output_type": "execute_result"
    }
   ],
   "source": [
    "A = la.lstsq(np.array(S15_Colley).astype(np.float64),\n",
    "             np.array(Results_C).astype(np.float64))\n",
    "S15_rank_Colley = Matrix([S15_names.T,A[0]])\n",
    "Week11_rank_C = list(np.array(S15_rank_Colley.T))\n",
    "Week11_rank_C.sort(key=lambda row: row[1:], reverse=True)\n",
    "import pprint\n",
    "pprint.pprint(Week11_rank_C)"
   ]
  },
  {
   "cell_type": "code",
   "execution_count": 19,
   "metadata": {
    "collapsed": false,
    "deletable": true,
    "editable": true
   },
   "outputs": [
    {
     "data": {
      "image/png": "[encoded data removed]",
      "text/latex": [
       "$$0.473783894243$$"
      ],
      "text/plain": [
       "0.473783894243"
      ]
     },
     "execution_count": 19,
     "metadata": {},
     "output_type": "execute_result"
    }
   ],
   "source": [
    "#A key issue is that the mean of the ratings remains at 1/2. Not sure whether rounding error in the calculations occurs....\n",
    "A[0].mean()"
   ]
  },
  {
   "cell_type": "code",
   "execution_count": 20,
   "metadata": {
    "collapsed": false,
    "deletable": true,
    "editable": true
   },
   "outputs": [
    {
     "data": {
      "image/png": "[encoded data removed]",
      "text/latex": [
       "$$\\left[\\begin{matrix}0\\\\0\\\\- Chiefs + Waratahs\\\\Chiefs - Crusaders\\\\Crusaders - Waratahs\\\\- Brumbies + Lions\\\\- Lions + Stormers\\\\Brumbies - Stormers\\\\0\\\\0\\\\0\\\\0\\\\- Blues + Reds\\\\Blues - Reds\\\\0\\end{matrix}\\right]$$"
      ],
      "text/plain": [
       "⎡         0          ⎤\n",
       "⎢                    ⎥\n",
       "⎢         0          ⎥\n",
       "⎢                    ⎥\n",
       "⎢ -Chiefs + Waratahs ⎥\n",
       "⎢                    ⎥\n",
       "⎢ Chiefs - Crusaders ⎥\n",
       "⎢                    ⎥\n",
       "⎢Crusaders - Waratahs⎥\n",
       "⎢                    ⎥\n",
       "⎢ -Brumbies + Lions  ⎥\n",
       "⎢                    ⎥\n",
       "⎢ -Lions + Stormers  ⎥\n",
       "⎢                    ⎥\n",
       "⎢Brumbies - Stormers ⎥\n",
       "⎢                    ⎥\n",
       "⎢         0          ⎥\n",
       "⎢                    ⎥\n",
       "⎢         0          ⎥\n",
       "⎢                    ⎥\n",
       "⎢         0          ⎥\n",
       "⎢                    ⎥\n",
       "⎢         0          ⎥\n",
       "⎢                    ⎥\n",
       "⎢   -Blues + Reds    ⎥\n",
       "⎢                    ⎥\n",
       "⎢    Blues - Reds    ⎥\n",
       "⎢                    ⎥\n",
       "⎣         0          ⎦"
      ]
     },
     "execution_count": 20,
     "metadata": {},
     "output_type": "execute_result"
    }
   ],
   "source": [
    "WC = Matrix(Week11_rank_C)\n",
    "WM = Matrix(Week11_rank)\n",
    "WC[:,0]-WM[:,0]"
   ]
  },
  {
   "cell_type": "code",
   "execution_count": 22,
   "metadata": {
    "collapsed": false,
    "deletable": true,
    "editable": true
   },
   "outputs": [
    {
     "name": "stdout",
     "output_type": "stream",
     "text": [
      "Super 15 predictions for Finals Massey\n",
      "===========================================================================\n",
      "Hurricanes -v- Highlanders : \n",
      "Hurricanes to win by  7.\n",
      "===========================================================================\n",
      "\n",
      "Super 15 predictions for Finals Colley\n",
      "===========================================================================\n",
      "Hurricanes -v- Highlanders : \n",
      "Hurricanes to win with p = 0.69\n",
      "===========================================================================\n"
     ]
    }
   ],
   "source": [
    "#Convert rank to a dictionary to query\n",
    "b = {Week11_rank[i][0]:Week11_rank[i][1] for i in range(len(Week11_rank))}\n",
    "r = {Week11_rank_C[i][0]:Week11_rank_C[i][1] for i in range(len(Week11_rank_C))}\n",
    "\n",
    "#Key:Cr, Reb, Br, Red,Li,Hu,Bl,Chief,Sh,Cheet,Bull,St,Wa,Fo,Hi\n",
    "draw = [Hu]\n",
    "draw2 = [Hi]\n",
    "#Print draw and winning margin prediction\n",
    "print( 'Super 15 predictions for Finals Massey')\n",
    "print( '=' * 75)\n",
    "for i in range(len(draw)):\n",
    "    print( draw[i],'-v-',draw2[i], ': '),\n",
    "    if (b[draw[i]]-b[draw2[i]]) < 0:\n",
    "        print( draw2[i], 'to win by ', abs(b[draw[i]]-b[draw2[i]]).round(0))\n",
    "    else:\n",
    "        print( draw[i], 'to win by ', abs(b[draw[i]]-b[draw2[i]]).round(0))\n",
    "print( '=' * 75)\n",
    "print()\n",
    "print( 'Super 15 predictions for Finals Colley')\n",
    "print( '=' * 75)\n",
    "for i in range(len(draw)):\n",
    "    print( draw[i],'-v-',draw2[i], ': '),\n",
    "    if (r[draw[i]]-r[draw2[i]]) < 0:\n",
    "        print( draw2[i], 'to win with p =', ((r[draw2[i]]*(1-r[draw[i]])) / (r[draw2[i]]*(1-r[draw[i]])+(1-r[draw2[i]])*r[draw[i]])).round(2))\n",
    "    else:\n",
    "        print( draw[i], 'to win with p =', ((r[draw[i]]*(1-r[draw2[i]])) / (r[draw[i]]*(1-r[draw2[i]])+(1-r[draw[i]])*r[draw2[i]])).round(2))\n",
    "print( '=' * 75)"
   ]
  },
  {
   "cell_type": "raw",
   "metadata": {
    "deletable": true,
    "editable": true
   },
   "source": [
    "Super 15 predictions for Round 11 Massey\n",
    "===========================================================================\n",
    "Highlanders -v- Sharks :  Highlanders to win by  7.\n",
    "Brumbies -v- Waratahs :  Waratahs to win by  0.e+0\n",
    "Blues -v- Force :  Blues to win by  2.\n",
    "Hurricanes -v- Crusaders :  Hurricanes to win by  7.\n",
    "Rebels -v- Chiefs :  Chiefs to win by  6.\n",
    "Cheetahs -v- Stormers :  Stormers to win by  12.\n",
    "Bulls -v- Lions :  Bulls to win by  4.\n",
    "===========================================================================\n",
    "\n",
    "Super 15 predictions for Round 11 Colley\n",
    "===========================================================================\n",
    "Highlanders -v- Sharks :  Highlanders to win with p = 0.75\n",
    "Brumbies -v- Waratahs :  Waratahs to win with p = 0.61\n",
    "Blues -v- Force :  Blues to win with p = 0.61\n",
    "Hurricanes -v- Crusaders :  Hurricanes to win with p = 0.80\n",
    "Rebels -v- Chiefs :  Chiefs to win with p = 0.72\n",
    "Cheetahs -v- Stormers :  Stormers to win with p = 0.85\n",
    "Bulls -v- Lions :  Bulls to win with p = 0.51\n",
    "===========================================================================\n",
    "Super 15 predictions for Round 12 Massey\n",
    "===========================================================================\n",
    "Highlanders -v- Sharks :  Highlanders to win by  7.\n",
    "Brumbies -v- Waratahs :  Waratahs to win by  0.e+0\n",
    "Blues -v- Force :  Blues to win by  2.\n",
    "Hurricanes -v- Crusaders :  Hurricanes to win by  7.\n",
    "Rebels -v- Chiefs :  Chiefs to win by  6.\n",
    "Cheetahs -v- Stormers :  Stormers to win by  12.\n",
    "Bulls -v- Lions :  Bulls to win by  4.\n",
    "===========================================================================\n",
    "\n",
    "Super 15 predictions for Round 12 Colley\n",
    "===========================================================================\n",
    "Highlanders -v- Sharks :  Highlanders to win with p = 0.75\n",
    "Brumbies -v- Waratahs :  Waratahs to win with p = 0.61\n",
    "Blues -v- Force :  Blues to win with p = 0.61\n",
    "Hurricanes -v- Crusaders :  Hurricanes to win with p = 0.80\n",
    "Rebels -v- Chiefs :  Chiefs to win with p = 0.72\n",
    "Cheetahs -v- Stormers :  Stormers to win with p = 0.85\n",
    "Bulls -v- Lions :  Bulls to win with p = 0.51\n",
    "===========================================================================\n",
    "\n",
    "Super 15 predictions for Round 13 Massey\n",
    "===========================================================================\n",
    "Crusaders -v- Reds :  Crusaders to win by  7.\n",
    "Rebels -v- Blues :  Rebels to win by  4.\n",
    "Hurricanes -v- Sharks :  Hurricanes to win by  12.\n",
    "Force -v- Waratahs :  Waratahs to win by  11.\n",
    "Lions -v- Highlanders :  Highlanders to win by  7.\n",
    "Stormers -v- Brumbies :  Brumbies to win by  0.\n",
    "===========================================================================\n",
    "\n",
    "Super 15 predictions for Round 13 Colley\n",
    "===========================================================================\n",
    "Crusaders -v- Reds :  Crusaders to win with p = 0.72\n",
    "Rebels -v- Blues :  Rebels to win with p = 0.72\n",
    "Hurricanes -v- Sharks :  Hurricanes to win with p = 0.88\n",
    "Force -v- Waratahs :  Waratahs to win with p = 0.91\n",
    "Lions -v- Highlanders :  Highlanders to win with p = 0.66\n",
    "Stormers -v- Brumbies :  Stormers to win with p = 0.63\n",
    "===========================================================================\n",
    "Super 15 predictions for Round 14 Massey\n",
    "===========================================================================\n",
    "Blues -v- Bulls :  Bulls to win by  7.\n",
    "Reds -v- Rebels :  Rebels to win by  8.\n",
    "Hurricanes -v- Chiefs :  Hurricanes to win by  3.\n",
    "Waratahs -v- Sharks :  Waratahs to win by  5.\n",
    "Lions -v- Brumbies :  Brumbies to win by  3.\n",
    "Cheetahs -v- Highlanders :  Highlanders to win by  8.\n",
    "===========================================================================\n",
    "\n",
    "Super 15 predictions for Round 14 Colley\n",
    "===========================================================================\n",
    "Blues -v- Bulls :  Bulls to win with p = 0.82\n",
    "Reds -v- Rebels :  Rebels to win with p = 0.77\n",
    "Hurricanes -v- Chiefs :  Hurricanes to win with p = 0.73\n",
    "Waratahs -v- Sharks :  Waratahs to win with p = 0.68\n",
    "Lions -v- Brumbies :  Lions to win with p = 0.61\n",
    "Cheetahs -v- Highlanders :  Highlanders to win with p = 0.76\n",
    "===========================================================================\n",
    "This round was intersting in that the predictions for Wa/Sh and Hu,Chief games had conentious referre decisions,\n",
    "with referees being stood down. \n",
    "Super 15 predictions for Round 15 Massey\n",
    "===========================================================================\n",
    "Chiefs -v- Bulls :  Chiefs to win by  4.\n",
    "Reds -v- Sharks :  Sharks to win by  1.\n",
    "Blues -v- Hurricanes :  Hurricanes to win by  11.\n",
    "Waratahs -v- Crusaders :  Waratahs to win by  1.\n",
    "Force -v- Highlanders :  Highlanders to win by  9.\n",
    "Cheetahs -v- Lions :  Lions to win by  4.\n",
    "Stormers -v- Rebels :  Stormers to win by  2.\n",
    "===========================================================================\n",
    "\n",
    "Super 15 predictions for Round 15 Colley\n",
    "===========================================================================\n",
    "Chiefs -v- Bulls :  Chiefs to win with p = 0.58\n",
    "Reds -v- Sharks :  Sharks to win with p = 0.56\n",
    "Blues -v- Hurricanes :  Hurricanes to win with p = 0.92\n",
    "Waratahs -v- Crusaders :  Waratahs to win with p = 0.60\n",
    "Force -v- Highlanders :  Highlanders to win with p = 0.86\n",
    "Cheetahs -v- Lions :  Lions to win with p = 0.70\n",
    "Stormers -v- Rebels :  Stormers to win with p = 0.65\n",
    "===========================================================================\n",
    "Super 15 predictions for Round 16 Massey\n",
    "===========================================================================\n",
    "Crusaders -v- Hurricanes :  Hurricanes to win by  10.\n",
    "Brumbies -v- Bulls :  Brumbies to win by  3.\n",
    "Sharks -v- Rebels :  Rebels to win by  5.\n",
    "Highlanders -v- Chiefs :  Chiefs to win by  2.\n",
    "Force -v- Reds :  Reds to win by  0.e+0\n",
    "Stormers -v- Cheetahs :  Stormers to win by  8.\n",
    "Lions -v- Waratahs :  Waratahs to win by  4.\n",
    "===========================================================================\n",
    "\n",
    "Super 15 predictions for Round 16 Colley\n",
    "===========================================================================\n",
    "Crusaders -v- Hurricanes :  Hurricanes to win with p = 0.84\n",
    "Brumbies -v- Bulls :  Brumbies to win with p = 0.50\n",
    "Sharks -v- Rebels :  Rebels to win with p = 0.65\n",
    "Highlanders -v- Chiefs :  Highlanders to win with p = 0.51\n",
    "Force -v- Reds :  Reds to win with p = 0.57\n",
    "Stormers -v- Cheetahs :  Stormers to win with p = 0.79\n",
    "Lions -v- Waratahs :  Waratahs to win with p = 0.61\n",
    "===========================================================================\n",
    "Super 15 predictions for Round 17 Massey\n",
    "===========================================================================\n",
    "Hurricanes -v- Highlanders :  Hurricanes to win by  3.\n",
    "Force -v- Brumbies :  Brumbies to win by  12.\n",
    "Rebels -v- Bulls :  Rebels to win by  0.e+0\n",
    "Blues -v- Crusaders :  Crusaders to win by  7.\n",
    "Reds -v- Chiefs :  Chiefs to win by  11.\n",
    "Cheetahs -v- Waratahs :  Waratahs to win by  9.\n",
    "Stormers -v- Lions :  Stormers to win by  1.\n",
    "===========================================================================\n",
    "\n",
    "Super 15 predictions for Round 17 Colley\n",
    "===========================================================================\n",
    "Hurricanes -v- Highlanders :  Hurricanes to win with p = 0.64\n",
    "Force -v- Brumbies :  Brumbies to win with p = 0.83\n",
    "Rebels -v- Bulls :  Rebels to win with p = 0.51\n",
    "Blues -v- Crusaders :  Crusaders to win with p = 0.73\n",
    "Reds -v- Chiefs :  Chiefs to win with p = 0.79\n",
    "Cheetahs -v- Waratahs :  Waratahs to win with p = 0.79\n",
    "Stormers -v- Lions :  Stormers to win with p = 0.54\n",
    "===========================================================================\n",
    "Super 15 predictions for Qualifiers Massey\n",
    "===========================================================================\n",
    "Highlanders -v- Chiefs :  Highlanders to win by  0.e+0\n",
    "Stormers -v- Brumbies :  Brumbies to win by  1.\n",
    "===========================================================================\n",
    "\n",
    "Super 15 predictions for Qualifiers Colley\n",
    "===========================================================================\n",
    "Highlanders -v- Chiefs :  Highlanders to win with p = 0.57\n",
    "Stormers -v- Brumbies :  Stormers to win with p = 0.56\n",
    "===========================================================================\n",
    "\n",
    "Super 15 predictions for Finals Massey\n",
    "===========================================================================\n",
    "Highlanders -v- Chiefs :  Highlanders to win by  0.e+0\n",
    "Stormers -v- Brumbies :  Brumbies to win by  1.\n",
    "Hurricanes -v- Stormers :  Hurricanes to win by  13.\n",
    "Hurricanes -v- Brumbies :  Hurricanes to win by  12.\n",
    "Waratahs -v- Highlanders :  Highlanders to win by  3.\n",
    "Waratahs -v- Chiefs :  Chiefs to win by  2.\n",
    "Hurricanes -v- Highlanders :  Hurricanes to win by  7.\n",
    "Hurricanes -v- Waratahs :  Hurricanes to win by  1.e+1\n",
    "Hurricanes -v- Chiefs :  Hurricanes to win by  8.\n",
    "===========================================================================\n",
    "\n",
    "Super 15 predictions for Finals Colley\n",
    "===========================================================================\n",
    "Highlanders -v- Chiefs :  Highlanders to win with p = 0.57\n",
    "Stormers -v- Brumbies :  Stormers to win with p = 0.56\n",
    "Hurricanes -v- Stormers :  Hurricanes to win with p = 0.78\n",
    "Hurricanes -v- Brumbies :  Hurricanes to win with p = 0.82\n",
    "Waratahs -v- Highlanders :  Highlanders to win with p = 0.55\n",
    "Waratahs -v- Chiefs :  Waratahs to win with p = 0.52\n",
    "Hurricanes -v- Highlanders :  Hurricanes to win with p = 0.70\n",
    "Hurricanes -v- Waratahs :  Hurricanes to win with p = 0.74\n",
    "Hurricanes -v- Chiefs :  Hurricanes to win with p = 0.75\n",
    "===========================================================================\n",
    "Super 15 predictions for Semi & Finals Massey\n",
    "===========================================================================\n",
    "Hurricanes -v- Brumbies :  Hurricanes to win by  11.\n",
    "Waratahs -v- Highlanders :  Highlanders to win by  3.\n",
    "Waratahs -v- Hurricanes :  Hurricanes to win by  9.\n",
    "Waratahs -v- Brumbies :  Waratahs to win by  1.\n",
    "Hurricanes -v- Waratahs :  Hurricanes to win by  9.\n",
    "Hurricanes -v- Highlanders :  Hurricanes to win by  6.\n",
    "===========================================================================\n",
    "\n",
    "Super 15 predictions for Semi & Finals Colley\n",
    "===========================================================================\n",
    "Hurricanes -v- Brumbies :  Hurricanes to win with p = 0.79\n",
    "Waratahs -v- Highlanders :  Highlanders to win with p = 0.54\n",
    "Waratahs -v- Hurricanes :  Hurricanes to win with p = 0.73\n",
    "Waratahs -v- Brumbies :  Waratahs to win with p = 0.59\n",
    "Hurricanes -v- Waratahs :  Hurricanes to win with p = 0.73\n",
    "Hurricanes -v- Highlanders :  Hurricanes to win with p = 0.69\n",
    "==========================================================================="
   ]
  },
  {
   "cell_type": "markdown",
   "metadata": {
    "deletable": true,
    "editable": true
   },
   "source": [
    "Converting odds to implied probability \n",
    "http://www.bettingexpert.com/blog/how-to-convert-odds"
   ]
  },
  {
   "cell_type": "code",
   "execution_count": 23,
   "metadata": {
    "collapsed": false,
    "deletable": true,
    "editable": true
   },
   "outputs": [],
   "source": [
    "#plt.figure()\n",
    "def Standard_background():\n",
    "    f = plt.figure(facecolor=\".9\")\n",
    "    ax = f.add_subplot(111, axisbg=\"#F4EAEA\")\n",
    "    return"
   ]
  },
  {
   "cell_type": "code",
   "execution_count": 24,
   "metadata": {
    "collapsed": false,
    "deletable": true,
    "editable": true
   },
   "outputs": [],
   "source": [
    "import pandas as pd\n",
    "s15df = pd.DataFrame(S15_Base.T, columns=['Crusaders', 'Rebels', 'Brumbies', 'Reds', 'Lions', 'Hurricanes', 'Blues', 'Chiefs', \n",
    "                                      'Sharks', 'Cheetahs', 'Bulls', 'Stormers', 'Waratahs', 'Force', 'Highlanders'])"
   ]
  },
  {
   "cell_type": "code",
   "execution_count": 25,
   "metadata": {
    "collapsed": false,
    "deletable": true,
    "editable": true
   },
   "outputs": [
    {
     "data": {
      "text/html": [
       "<div>\n",
       "<table border=\"1\" class=\"dataframe\">\n",
       "  <thead>\n",
       "    <tr style=\"text-align: right;\">\n",
       "      <th></th>\n",
       "      <th>Crusaders</th>\n",
       "      <th>Rebels</th>\n",
       "      <th>Brumbies</th>\n",
       "      <th>Reds</th>\n",
       "      <th>Lions</th>\n",
       "      <th>Hurricanes</th>\n",
       "      <th>Blues</th>\n",
       "      <th>Chiefs</th>\n",
       "      <th>Sharks</th>\n",
       "      <th>Cheetahs</th>\n",
       "      <th>Bulls</th>\n",
       "      <th>Stormers</th>\n",
       "      <th>Waratahs</th>\n",
       "      <th>Force</th>\n",
       "      <th>Highlanders</th>\n",
       "    </tr>\n",
       "  </thead>\n",
       "  <tbody>\n",
       "    <tr>\n",
       "      <th>0</th>\n",
       "      <td>-10</td>\n",
       "      <td>10</td>\n",
       "      <td>44</td>\n",
       "      <td>-44</td>\n",
       "      <td>-14</td>\n",
       "      <td>14</td>\n",
       "      <td>-5</td>\n",
       "      <td>5</td>\n",
       "      <td>-6</td>\n",
       "      <td>6</td>\n",
       "      <td>-12</td>\n",
       "      <td>12</td>\n",
       "      <td>-12</td>\n",
       "      <td>12</td>\n",
       "      <td>0</td>\n",
       "    </tr>\n",
       "    <tr>\n",
       "      <th>1</th>\n",
       "      <td>6</td>\n",
       "      <td>-10</td>\n",
       "      <td>-2</td>\n",
       "      <td>12</td>\n",
       "      <td>-17</td>\n",
       "      <td>4</td>\n",
       "      <td>-11</td>\n",
       "      <td>2</td>\n",
       "      <td>17</td>\n",
       "      <td>0</td>\n",
       "      <td>-4</td>\n",
       "      <td>11</td>\n",
       "      <td>10</td>\n",
       "      <td>-12</td>\n",
       "      <td>-6</td>\n",
       "    </tr>\n",
       "    <tr>\n",
       "      <th>2</th>\n",
       "      <td>-24</td>\n",
       "      <td>-5</td>\n",
       "      <td>5</td>\n",
       "      <td>-7</td>\n",
       "      <td>-3</td>\n",
       "      <td>29</td>\n",
       "      <td>-1</td>\n",
       "      <td>24</td>\n",
       "      <td>-8</td>\n",
       "      <td>1</td>\n",
       "      <td>8</td>\n",
       "      <td>3</td>\n",
       "      <td>0</td>\n",
       "      <td>-29</td>\n",
       "      <td>7</td>\n",
       "    </tr>\n",
       "    <tr>\n",
       "      <th>3</th>\n",
       "      <td>0</td>\n",
       "      <td>0</td>\n",
       "      <td>12</td>\n",
       "      <td>-18</td>\n",
       "      <td>3</td>\n",
       "      <td>0</td>\n",
       "      <td>-3</td>\n",
       "      <td>-3</td>\n",
       "      <td>-16</td>\n",
       "      <td>-19</td>\n",
       "      <td>19</td>\n",
       "      <td>16</td>\n",
       "      <td>18</td>\n",
       "      <td>-12</td>\n",
       "      <td>3</td>\n",
       "    </tr>\n",
       "    <tr>\n",
       "      <th>4</th>\n",
       "      <td>28</td>\n",
       "      <td>4</td>\n",
       "      <td>29</td>\n",
       "      <td>-29</td>\n",
       "      <td>-28</td>\n",
       "      <td>7</td>\n",
       "      <td>-7</td>\n",
       "      <td>9</td>\n",
       "      <td>17</td>\n",
       "      <td>-17</td>\n",
       "      <td>0</td>\n",
       "      <td>-9</td>\n",
       "      <td>-7</td>\n",
       "      <td>-4</td>\n",
       "      <td>7</td>\n",
       "    </tr>\n",
       "    <tr>\n",
       "      <th>5</th>\n",
       "      <td>43</td>\n",
       "      <td>-4</td>\n",
       "      <td>-15</td>\n",
       "      <td>0</td>\n",
       "      <td>4</td>\n",
       "      <td>7</td>\n",
       "      <td>0</td>\n",
       "      <td>-1</td>\n",
       "      <td>1</td>\n",
       "      <td>-43</td>\n",
       "      <td>1</td>\n",
       "      <td>0</td>\n",
       "      <td>15</td>\n",
       "      <td>-1</td>\n",
       "      <td>-7</td>\n",
       "    </tr>\n",
       "    <tr>\n",
       "      <th>6</th>\n",
       "      <td>-12</td>\n",
       "      <td>-24</td>\n",
       "      <td>0</td>\n",
       "      <td>-1</td>\n",
       "      <td>1</td>\n",
       "      <td>24</td>\n",
       "      <td>-12</td>\n",
       "      <td>10</td>\n",
       "      <td>6</td>\n",
       "      <td>-10</td>\n",
       "      <td>12</td>\n",
       "      <td>-18</td>\n",
       "      <td>12</td>\n",
       "      <td>-6</td>\n",
       "      <td>18</td>\n",
       "    </tr>\n",
       "    <tr>\n",
       "      <th>7</th>\n",
       "      <td>42</td>\n",
       "      <td>8</td>\n",
       "      <td>17</td>\n",
       "      <td>-8</td>\n",
       "      <td>4</td>\n",
       "      <td>5</td>\n",
       "      <td>-7</td>\n",
       "      <td>7</td>\n",
       "      <td>-42</td>\n",
       "      <td>-17</td>\n",
       "      <td>-4</td>\n",
       "      <td>-5</td>\n",
       "      <td>0</td>\n",
       "      <td>0</td>\n",
       "      <td>0</td>\n",
       "    </tr>\n",
       "    <tr>\n",
       "      <th>8</th>\n",
       "      <td>-5</td>\n",
       "      <td>0</td>\n",
       "      <td>-2</td>\n",
       "      <td>-21</td>\n",
       "      <td>2</td>\n",
       "      <td>0</td>\n",
       "      <td>2</td>\n",
       "      <td>0</td>\n",
       "      <td>-2</td>\n",
       "      <td>9</td>\n",
       "      <td>21</td>\n",
       "      <td>14</td>\n",
       "      <td>-14</td>\n",
       "      <td>-9</td>\n",
       "      <td>5</td>\n",
       "    </tr>\n",
       "    <tr>\n",
       "      <th>9</th>\n",
       "      <td>-17</td>\n",
       "      <td>5</td>\n",
       "      <td>-5</td>\n",
       "      <td>1</td>\n",
       "      <td>0</td>\n",
       "      <td>-5</td>\n",
       "      <td>-6</td>\n",
       "      <td>17</td>\n",
       "      <td>-7</td>\n",
       "      <td>-1</td>\n",
       "      <td>7</td>\n",
       "      <td>7</td>\n",
       "      <td>5</td>\n",
       "      <td>-7</td>\n",
       "      <td>6</td>\n",
       "    </tr>\n",
       "    <tr>\n",
       "      <th>10</th>\n",
       "      <td>14</td>\n",
       "      <td>-2</td>\n",
       "      <td>13</td>\n",
       "      <td>-16</td>\n",
       "      <td>5</td>\n",
       "      <td>16</td>\n",
       "      <td>-14</td>\n",
       "      <td>8</td>\n",
       "      <td>0</td>\n",
       "      <td>-5</td>\n",
       "      <td>-2</td>\n",
       "      <td>2</td>\n",
       "      <td>2</td>\n",
       "      <td>-8</td>\n",
       "      <td>-13</td>\n",
       "    </tr>\n",
       "    <tr>\n",
       "      <th>11</th>\n",
       "      <td>-6</td>\n",
       "      <td>1</td>\n",
       "      <td>-3</td>\n",
       "      <td>0</td>\n",
       "      <td>-2</td>\n",
       "      <td>6</td>\n",
       "      <td>17</td>\n",
       "      <td>-1</td>\n",
       "      <td>-33</td>\n",
       "      <td>8</td>\n",
       "      <td>2</td>\n",
       "      <td>-8</td>\n",
       "      <td>3</td>\n",
       "      <td>-17</td>\n",
       "      <td>33</td>\n",
       "    </tr>\n",
       "    <tr>\n",
       "      <th>12</th>\n",
       "      <td>41</td>\n",
       "      <td>20</td>\n",
       "      <td>-1</td>\n",
       "      <td>-41</td>\n",
       "      <td>5</td>\n",
       "      <td>8</td>\n",
       "      <td>-20</td>\n",
       "      <td>0</td>\n",
       "      <td>-8</td>\n",
       "      <td>0</td>\n",
       "      <td>0</td>\n",
       "      <td>1</td>\n",
       "      <td>-7</td>\n",
       "      <td>7</td>\n",
       "      <td>-5</td>\n",
       "    </tr>\n",
       "    <tr>\n",
       "      <th>13</th>\n",
       "      <td>0</td>\n",
       "      <td>-17</td>\n",
       "      <td>10</td>\n",
       "      <td>17</td>\n",
       "      <td>-10</td>\n",
       "      <td>4</td>\n",
       "      <td>5</td>\n",
       "      <td>-4</td>\n",
       "      <td>-15</td>\n",
       "      <td>-21</td>\n",
       "      <td>-5</td>\n",
       "      <td>0</td>\n",
       "      <td>15</td>\n",
       "      <td>0</td>\n",
       "      <td>21</td>\n",
       "    </tr>\n",
       "    <tr>\n",
       "      <th>14</th>\n",
       "      <td>-10</td>\n",
       "      <td>16</td>\n",
       "      <td>0</td>\n",
       "      <td>-7</td>\n",
       "      <td>23</td>\n",
       "      <td>24</td>\n",
       "      <td>-24</td>\n",
       "      <td>14</td>\n",
       "      <td>7</td>\n",
       "      <td>-23</td>\n",
       "      <td>-14</td>\n",
       "      <td>-16</td>\n",
       "      <td>10</td>\n",
       "      <td>-20</td>\n",
       "      <td>20</td>\n",
       "    </tr>\n",
       "    <tr>\n",
       "      <th>15</th>\n",
       "      <td>17</td>\n",
       "      <td>-4</td>\n",
       "      <td>6</td>\n",
       "      <td>22</td>\n",
       "      <td>5</td>\n",
       "      <td>-17</td>\n",
       "      <td>0</td>\n",
       "      <td>-27</td>\n",
       "      <td>4</td>\n",
       "      <td>-30</td>\n",
       "      <td>-6</td>\n",
       "      <td>30</td>\n",
       "      <td>-5</td>\n",
       "      <td>-22</td>\n",
       "      <td>27</td>\n",
       "    </tr>\n",
       "    <tr>\n",
       "      <th>16</th>\n",
       "      <td>23</td>\n",
       "      <td>1</td>\n",
       "      <td>13</td>\n",
       "      <td>-21</td>\n",
       "      <td>0</td>\n",
       "      <td>36</td>\n",
       "      <td>-23</td>\n",
       "      <td>21</td>\n",
       "      <td>0</td>\n",
       "      <td>-25</td>\n",
       "      <td>-1</td>\n",
       "      <td>0</td>\n",
       "      <td>25</td>\n",
       "      <td>-13</td>\n",
       "      <td>-36</td>\n",
       "    </tr>\n",
       "    <tr>\n",
       "      <th>17</th>\n",
       "      <td>13</td>\n",
       "      <td>-2</td>\n",
       "      <td>-13</td>\n",
       "      <td>-26</td>\n",
       "      <td>0</td>\n",
       "      <td>8</td>\n",
       "      <td>-37</td>\n",
       "      <td>-8</td>\n",
       "      <td>22</td>\n",
       "      <td>13</td>\n",
       "      <td>-13</td>\n",
       "      <td>-22</td>\n",
       "      <td>26</td>\n",
       "      <td>2</td>\n",
       "      <td>37</td>\n",
       "    </tr>\n",
       "    <tr>\n",
       "      <th>18</th>\n",
       "      <td>0</td>\n",
       "      <td>0</td>\n",
       "      <td>20</td>\n",
       "      <td>0</td>\n",
       "      <td>0</td>\n",
       "      <td>0</td>\n",
       "      <td>0</td>\n",
       "      <td>-10</td>\n",
       "      <td>0</td>\n",
       "      <td>0</td>\n",
       "      <td>0</td>\n",
       "      <td>-20</td>\n",
       "      <td>0</td>\n",
       "      <td>0</td>\n",
       "      <td>0</td>\n",
       "    </tr>\n",
       "    <tr>\n",
       "      <th>19</th>\n",
       "      <td>0</td>\n",
       "      <td>0</td>\n",
       "      <td>-20</td>\n",
       "      <td>0</td>\n",
       "      <td>0</td>\n",
       "      <td>20</td>\n",
       "      <td>0</td>\n",
       "      <td>0</td>\n",
       "      <td>0</td>\n",
       "      <td>0</td>\n",
       "      <td>0</td>\n",
       "      <td>0</td>\n",
       "      <td>-18</td>\n",
       "      <td>0</td>\n",
       "      <td>18</td>\n",
       "    </tr>\n",
       "  </tbody>\n",
       "</table>\n",
       "</div>"
      ],
      "text/plain": [
       "    Crusaders  Rebels  Brumbies  Reds  Lions  Hurricanes  Blues  Chiefs  \\\n",
       "0         -10      10        44   -44    -14          14     -5       5   \n",
       "1           6     -10        -2    12    -17           4    -11       2   \n",
       "2         -24      -5         5    -7     -3          29     -1      24   \n",
       "3           0       0        12   -18      3           0     -3      -3   \n",
       "4          28       4        29   -29    -28           7     -7       9   \n",
       "5          43      -4       -15     0      4           7      0      -1   \n",
       "6         -12     -24         0    -1      1          24    -12      10   \n",
       "7          42       8        17    -8      4           5     -7       7   \n",
       "8          -5       0        -2   -21      2           0      2       0   \n",
       "9         -17       5        -5     1      0          -5     -6      17   \n",
       "10         14      -2        13   -16      5          16    -14       8   \n",
       "11         -6       1        -3     0     -2           6     17      -1   \n",
       "12         41      20        -1   -41      5           8    -20       0   \n",
       "13          0     -17        10    17    -10           4      5      -4   \n",
       "14        -10      16         0    -7     23          24    -24      14   \n",
       "15         17      -4         6    22      5         -17      0     -27   \n",
       "16         23       1        13   -21      0          36    -23      21   \n",
       "17         13      -2       -13   -26      0           8    -37      -8   \n",
       "18          0       0        20     0      0           0      0     -10   \n",
       "19          0       0       -20     0      0          20      0       0   \n",
       "\n",
       "    Sharks  Cheetahs  Bulls  Stormers  Waratahs  Force  Highlanders  \n",
       "0       -6         6    -12        12       -12     12            0  \n",
       "1       17         0     -4        11        10    -12           -6  \n",
       "2       -8         1      8         3         0    -29            7  \n",
       "3      -16       -19     19        16        18    -12            3  \n",
       "4       17       -17      0        -9        -7     -4            7  \n",
       "5        1       -43      1         0        15     -1           -7  \n",
       "6        6       -10     12       -18        12     -6           18  \n",
       "7      -42       -17     -4        -5         0      0            0  \n",
       "8       -2         9     21        14       -14     -9            5  \n",
       "9       -7        -1      7         7         5     -7            6  \n",
       "10       0        -5     -2         2         2     -8          -13  \n",
       "11     -33         8      2        -8         3    -17           33  \n",
       "12      -8         0      0         1        -7      7           -5  \n",
       "13     -15       -21     -5         0        15      0           21  \n",
       "14       7       -23    -14       -16        10    -20           20  \n",
       "15       4       -30     -6        30        -5    -22           27  \n",
       "16       0       -25     -1         0        25    -13          -36  \n",
       "17      22        13    -13       -22        26      2           37  \n",
       "18       0         0      0       -20         0      0            0  \n",
       "19       0         0      0         0       -18      0           18  "
      ]
     },
     "execution_count": 25,
     "metadata": {},
     "output_type": "execute_result"
    }
   ],
   "source": [
    "s15df"
   ]
  },
  {
   "cell_type": "code",
   "execution_count": 26,
   "metadata": {
    "collapsed": false,
    "deletable": true,
    "editable": true
   },
   "outputs": [
    {
     "data": {
      "text/html": [
       "<div>\n",
       "<table border=\"1\" class=\"dataframe\">\n",
       "  <thead>\n",
       "    <tr style=\"text-align: right;\">\n",
       "      <th></th>\n",
       "      <th>Crusaders</th>\n",
       "      <th>Rebels</th>\n",
       "      <th>Brumbies</th>\n",
       "      <th>Reds</th>\n",
       "      <th>Lions</th>\n",
       "      <th>Hurricanes</th>\n",
       "      <th>Blues</th>\n",
       "      <th>Chiefs</th>\n",
       "      <th>Sharks</th>\n",
       "      <th>Cheetahs</th>\n",
       "      <th>Bulls</th>\n",
       "      <th>Stormers</th>\n",
       "      <th>Waratahs</th>\n",
       "      <th>Force</th>\n",
       "      <th>Highlanders</th>\n",
       "    </tr>\n",
       "  </thead>\n",
       "  <tbody>\n",
       "    <tr>\n",
       "      <th>0</th>\n",
       "      <td>-10</td>\n",
       "      <td>10</td>\n",
       "      <td>44</td>\n",
       "      <td>-44</td>\n",
       "      <td>-14</td>\n",
       "      <td>14</td>\n",
       "      <td>-5</td>\n",
       "      <td>5</td>\n",
       "      <td>-6</td>\n",
       "      <td>6</td>\n",
       "      <td>-12</td>\n",
       "      <td>12</td>\n",
       "      <td>-12</td>\n",
       "      <td>12</td>\n",
       "      <td>0</td>\n",
       "    </tr>\n",
       "    <tr>\n",
       "      <th>1</th>\n",
       "      <td>6</td>\n",
       "      <td>-10</td>\n",
       "      <td>-2</td>\n",
       "      <td>12</td>\n",
       "      <td>-17</td>\n",
       "      <td>4</td>\n",
       "      <td>-11</td>\n",
       "      <td>2</td>\n",
       "      <td>17</td>\n",
       "      <td>0</td>\n",
       "      <td>-4</td>\n",
       "      <td>11</td>\n",
       "      <td>10</td>\n",
       "      <td>-12</td>\n",
       "      <td>-6</td>\n",
       "    </tr>\n",
       "    <tr>\n",
       "      <th>2</th>\n",
       "      <td>-24</td>\n",
       "      <td>-5</td>\n",
       "      <td>5</td>\n",
       "      <td>-7</td>\n",
       "      <td>-3</td>\n",
       "      <td>29</td>\n",
       "      <td>-1</td>\n",
       "      <td>24</td>\n",
       "      <td>-8</td>\n",
       "      <td>1</td>\n",
       "      <td>8</td>\n",
       "      <td>3</td>\n",
       "      <td>0</td>\n",
       "      <td>-29</td>\n",
       "      <td>7</td>\n",
       "    </tr>\n",
       "    <tr>\n",
       "      <th>3</th>\n",
       "      <td>0</td>\n",
       "      <td>0</td>\n",
       "      <td>12</td>\n",
       "      <td>-18</td>\n",
       "      <td>3</td>\n",
       "      <td>0</td>\n",
       "      <td>-3</td>\n",
       "      <td>-3</td>\n",
       "      <td>-16</td>\n",
       "      <td>-19</td>\n",
       "      <td>19</td>\n",
       "      <td>16</td>\n",
       "      <td>18</td>\n",
       "      <td>-12</td>\n",
       "      <td>3</td>\n",
       "    </tr>\n",
       "    <tr>\n",
       "      <th>4</th>\n",
       "      <td>28</td>\n",
       "      <td>4</td>\n",
       "      <td>29</td>\n",
       "      <td>-29</td>\n",
       "      <td>-28</td>\n",
       "      <td>7</td>\n",
       "      <td>-7</td>\n",
       "      <td>9</td>\n",
       "      <td>17</td>\n",
       "      <td>-17</td>\n",
       "      <td>0</td>\n",
       "      <td>-9</td>\n",
       "      <td>-7</td>\n",
       "      <td>-4</td>\n",
       "      <td>7</td>\n",
       "    </tr>\n",
       "  </tbody>\n",
       "</table>\n",
       "</div>"
      ],
      "text/plain": [
       "   Crusaders  Rebels  Brumbies  Reds  Lions  Hurricanes  Blues  Chiefs  \\\n",
       "0        -10      10        44   -44    -14          14     -5       5   \n",
       "1          6     -10        -2    12    -17           4    -11       2   \n",
       "2        -24      -5         5    -7     -3          29     -1      24   \n",
       "3          0       0        12   -18      3           0     -3      -3   \n",
       "4         28       4        29   -29    -28           7     -7       9   \n",
       "\n",
       "   Sharks  Cheetahs  Bulls  Stormers  Waratahs  Force  Highlanders  \n",
       "0      -6         6    -12        12       -12     12            0  \n",
       "1      17         0     -4        11        10    -12           -6  \n",
       "2      -8         1      8         3         0    -29            7  \n",
       "3     -16       -19     19        16        18    -12            3  \n",
       "4      17       -17      0        -9        -7     -4            7  "
      ]
     },
     "execution_count": 26,
     "metadata": {},
     "output_type": "execute_result"
    }
   ],
   "source": [
    "s15df.head()"
   ]
  },
  {
   "cell_type": "code",
   "execution_count": 27,
   "metadata": {
    "collapsed": false,
    "deletable": true,
    "editable": true
   },
   "outputs": [
    {
     "data": {
      "text/plain": [
       "array([[<matplotlib.axes._subplots.AxesSubplot object at 0x11f29b1d0>,\n",
       "        <matplotlib.axes._subplots.AxesSubplot object at 0x1166cea90>,\n",
       "        <matplotlib.axes._subplots.AxesSubplot object at 0x11671c940>,\n",
       "        <matplotlib.axes._subplots.AxesSubplot object at 0x11675add8>],\n",
       "       [<matplotlib.axes._subplots.AxesSubplot object at 0x124862f60>,\n",
       "        <matplotlib.axes._subplots.AxesSubplot object at 0x1248a54e0>,\n",
       "        <matplotlib.axes._subplots.AxesSubplot object at 0x1248f4630>,\n",
       "        <matplotlib.axes._subplots.AxesSubplot object at 0x124932da0>],\n",
       "       [<matplotlib.axes._subplots.AxesSubplot object at 0x124985048>,\n",
       "        <matplotlib.axes._subplots.AxesSubplot object at 0x1249bd6a0>,\n",
       "        <matplotlib.axes._subplots.AxesSubplot object at 0x124a0f9e8>,\n",
       "        <matplotlib.axes._subplots.AxesSubplot object at 0x124a2d198>],\n",
       "       [<matplotlib.axes._subplots.AxesSubplot object at 0x124a9f2e8>,\n",
       "        <matplotlib.axes._subplots.AxesSubplot object at 0x124aed550>,\n",
       "        <matplotlib.axes._subplots.AxesSubplot object at 0x124b2bac8>,\n",
       "        <matplotlib.axes._subplots.AxesSubplot object at 0x124b76d30>]], dtype=object)"
      ]
     },
     "execution_count": 27,
     "metadata": {},
     "output_type": "execute_result"
    },
    {
     "data": {
      "image/png": "[encoded data removed]",
      "text/plain": [
       "<matplotlib.figure.Figure at 0x116686da0>"
      ]
     },
     "metadata": {},
     "output_type": "display_data"
    }
   ],
   "source": [
    "#http://pandas.pydata.org/pandas-docs/stable/visualization.html REMOVE the diff()\n",
    "s15df.hist(color='purple', alpha=0.5, figsize=(12,8),sharey=True,sharex=True,bins=5)"
   ]
  },
  {
   "cell_type": "code",
   "execution_count": 28,
   "metadata": {
    "collapsed": false,
    "deletable": true,
    "editable": true
   },
   "outputs": [
    {
     "name": "stderr",
     "output_type": "stream",
     "text": [
      "/Users/Llewelyn_home/Library/Enthought/Canopy/edm/envs/User/lib/python3.5/site-packages/matplotlib/cbook.py:136: MatplotlibDeprecationWarning: The axisbg attribute was deprecated in version 2.0. Use facecolor instead.\n",
      "  warnings.warn(message, mplDeprecation, stacklevel=1)\n",
      "/Users/Llewelyn_home/Library/Enthought/Canopy/edm/envs/User/lib/python3.5/site-packages/matplotlib/axes/_axes.py:545: UserWarning: No labelled objects found. Use label='...' kwarg on individual plots.\n",
      "  warnings.warn(\"No labelled objects found. \"\n"
     ]
    },
    {
     "data": {
      "image/png": "[encoded data removed]",
      "text/plain": [
       "<matplotlib.figure.Figure at 0x124c4dbe0>"
      ]
     },
     "metadata": {},
     "output_type": "display_data"
    }
   ],
   "source": [
    "import numpy as np\n",
    "import matplotlib.pyplot as plt\n",
    "\n",
    "def Hist_plot(column_list, bins=5, color=['green','blue'],alpha=.3):\n",
    "    '''This plots a list of series, obtained from columns\n",
    "    column_list is, for example, [df.colA ,df.colB,df.colC]\n",
    "    Default colors = ['green','blue','red']'''\n",
    "    fig = plt.figure(facecolor=\".9\")\n",
    "    ax = fig.add_subplot(111, axisbg=\"#F4EAEA\")\n",
    "#     f = plt.figure(facecolor=\".9\")\n",
    "#     ax = f.add_subplot(111, axisbg=\"#F4EAEA\")\n",
    "    x = column_list\n",
    "    bins=bins\n",
    "    ax.hist(x,bins,color=color,alpha=alpha)\n",
    "    plt.legend()\n",
    "    plt.show()\n",
    "Hist_plot([s15df.Hurricanes,s15df.Highlanders],bins=5)"
   ]
  },
  {
   "cell_type": "code",
   "execution_count": 29,
   "metadata": {
    "collapsed": false,
    "deletable": true,
    "editable": true
   },
   "outputs": [
    {
     "name": "stderr",
     "output_type": "stream",
     "text": [
      "/Users/Llewelyn_home/Library/Enthought/Canopy/edm/envs/User/lib/python3.5/site-packages/matplotlib/cbook.py:136: MatplotlibDeprecationWarning: The axisbg attribute was deprecated in version 2.0. Use facecolor instead.\n",
      "  warnings.warn(message, mplDeprecation, stacklevel=1)\n"
     ]
    },
    {
     "data": {
      "image/png": "[encoded data removed]",
      "text/plain": [
       "<matplotlib.figure.Figure at 0x124f28a90>"
      ]
     },
     "metadata": {},
     "output_type": "display_data"
    }
   ],
   "source": [
    "def Score_plot(Team1,Team2, power=3): \n",
    "    p1 = np.poly1d(np.polyfit(s15df.index,Team1,power))\n",
    "    plt.plot(s15df.index,p1(s15df.index),color='g')#,label=draw[0])\n",
    "    Team1.plot(kind='bar',color='g',alpha=.3)\n",
    "#     f = plt.figure(facecolor=\".9\")\n",
    "#     ax = f.add_subplot(111, axisbg=\"#F4EAEA\")\n",
    "    p2 = np.poly1d(np.polyfit(s15df.index,Team2,power))\n",
    "    plt.plot(s15df.index,p2(s15df.index),color='purple')#,label='Bulls')\n",
    "    Team2.plot(kind='bar',color='purple',alpha=.3,figsize=(20,20),sharex=True,sharey=True)\n",
    "    plt.legend()\n",
    "    return\n",
    "plt.figure(1,facecolor=\".9\")\n",
    "plt.subplot(4,3,1, axisbg=\"#F4EAEA\")\n",
    "Score_plot(s15df.Highlanders,s15df.Hurricanes)\n",
    "\n",
    "# plt.subplot(4,3,2, axisbg=\"#F4EAEA\")\n",
    "# Score_plot(s15df.Brumbies,s15df.Hurricanes)\n",
    "\n",
    "# plt.subplot(4,3,3, axisbg=\"#F4EAEA\")\n",
    "# Score_plot(s15df.Hurricanes,s15df.Waratahs)\n",
    "\n",
    "# plt.subplot(4,3,4, axisbg=\"#F4EAEA\")\n",
    "# Score_plot(s15df.Blues,s15df.Crusaders)\n",
    "\n",
    "# plt.subplot(4,3,5, axisbg=\"#F4EAEA\")\n",
    "# Score_plot(s15df.Chiefs,s15df.Reds)\n",
    "\n",
    "# plt.subplot(4,3,6, axisbg=\"#F4EAEA\")\n",
    "# Score_plot(s15df.Waratahs,s15df.Cheetahs)\n",
    "\n",
    "# plt.subplot(4,3,7, axisbg=\"#F4EAEA\")\n",
    "# Score_plot(s15df.Lions,s15df.Stormers)\n",
    "\n",
    "plt.show()"
   ]
  },
  {
   "cell_type": "code",
   "execution_count": 29,
   "metadata": {
    "collapsed": false,
    "deletable": true,
    "editable": true
   },
   "outputs": [
    {
     "data": {
      "text/plain": [
       "'Waratahs'"
      ]
     },
     "execution_count": 29,
     "metadata": {},
     "output_type": "execute_result"
    }
   ],
   "source": [
    "repr(draw[1])"
   ]
  },
  {
   "cell_type": "code",
   "execution_count": 29,
   "metadata": {
    "collapsed": false,
    "deletable": true,
    "editable": true
   },
   "outputs": [],
   "source": []
  }
 ],
 "metadata": {
  "kernelspec": {
   "display_name": "Python 3",
   "language": "python",
   "name": "python3"
  },
  "language_info": {
   "codemirror_mode": {
    "name": "ipython",
    "version": 3
   },
   "file_extension": ".py",
   "mimetype": "text/x-python",
   "name": "python",
   "nbconvert_exporter": "python",
   "pygments_lexer": "ipython3",
   "version": "3.5.2"
  }
 },
 "nbformat": 4,
 "nbformat_minor": 0
}
